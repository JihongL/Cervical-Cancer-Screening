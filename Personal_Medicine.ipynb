{
 "cells": [
  {
   "cell_type": "markdown",
   "metadata": {},
   "source": [
    "# Personalized Medicine: Redefining Cancer Treatment\n",
    "### Predict the effect of Genetic Variants to enable Personalized Medicine\n",
    "##### https://www.kaggle.com/c/msk-redefining-cancer-treatment\n",
    "- 임상 결과를 바탕으로 암의 돌연변이를 일으키는 유전적 요인을 분석하는 프로젝트"
   ]
  },
  {
   "cell_type": "markdown",
   "metadata": {},
   "source": [
    "[Data Import](#Data-Import)  \n",
    "[EDA](#EDA)  \n",
    "[TF-IDF](#TF-IDF)  \n",
    "[Evaluation Model](#Evaluation-Model)  \n",
    "[Model Selection](#Model-selection)  \n",
    "[Submit](#Submit)  "
   ]
  },
  {
   "cell_type": "code",
   "execution_count": 62,
   "metadata": {
    "collapsed": true
   },
   "outputs": [],
   "source": [
    "import numpy as np # Linear Algebra\n",
    "import pandas as pd # Data Processing\n",
    "from pandas import HDFStore\n",
    "import matplotlib.pyplot as plt # Visualize\n",
    "%matplotlib inline\n",
    "import seaborn as sns # Visualize\n",
    "from sklearn.feature_extraction.text import TfidfVectorizer, ENGLISH_STOP_WORDS, CountVectorizer\n",
    "from sklearn.decomposition import TruncatedSVD, PCA\n",
    "from sklearn.model_selection import StratifiedKFold, train_test_split, GridSearchCV\n",
    "from sklearn.metrics import log_loss, accuracy_score\n",
    "from sklearn.svm import SVC\n",
    "from sklearn.preprocessing import LabelEncoder\n",
    "from collections import Counter\n",
    "from sklearn.ensemble import RandomForestClassifier\n",
    "from xgboost import XGBClassifier\n",
    "from lightgbm import LGBMClassifier\n",
    "import re\n",
    "import nltk"
   ]
  },
  {
   "cell_type": "markdown",
   "metadata": {},
   "source": [
    "# Data Import"
   ]
  },
  {
   "cell_type": "code",
   "execution_count": 339,
   "metadata": {
    "collapsed": true
   },
   "outputs": [],
   "source": [
    "train_text_df = pd.read_csv('data/training_text', sep=\"\\|\\|\", engine=\"python\", skiprows=1, names=[\"ID\", \"Text\"])\n",
    "stage1_text_df = pd.read_csv('data/test_text', sep=\"\\|\\|\", engine=\"python\", skiprows=1, names=[\"ID\", \"Text\"]) # Stage 1\n",
    "test_text_df = pd.read_csv('data/stage2_test_text.csv', sep=\"\\|\\|\", engine=\"python\", skiprows=1, names=[\"ID\", \"Text\"]) # Stage 2\n",
    "train_vari_df = pd.read_csv('data/training_variants')\n",
    "stage1_vari_df = pd.read_csv('data/stage1_solution_variants.csv') # Stage 1\n",
    "test_vari_df = pd.read_csv('data/stage2_test_variants.csv') # Stage 2"
   ]
  },
  {
   "cell_type": "code",
   "execution_count": 340,
   "metadata": {},
   "outputs": [
    {
     "data": {
      "text/html": [
       "<div>\n",
       "<style>\n",
       "    .dataframe thead tr:only-child th {\n",
       "        text-align: right;\n",
       "    }\n",
       "\n",
       "    .dataframe thead th {\n",
       "        text-align: left;\n",
       "    }\n",
       "\n",
       "    .dataframe tbody tr th {\n",
       "        vertical-align: top;\n",
       "    }\n",
       "</style>\n",
       "<table border=\"1\" class=\"dataframe\">\n",
       "  <thead>\n",
       "    <tr style=\"text-align: right;\">\n",
       "      <th></th>\n",
       "      <th>ID</th>\n",
       "      <th>Gene</th>\n",
       "      <th>Variation</th>\n",
       "      <th>Class</th>\n",
       "    </tr>\n",
       "  </thead>\n",
       "  <tbody>\n",
       "    <tr>\n",
       "      <th>3316</th>\n",
       "      <td>3316</td>\n",
       "      <td>RUNX1</td>\n",
       "      <td>D171N</td>\n",
       "      <td>4</td>\n",
       "    </tr>\n",
       "    <tr>\n",
       "      <th>3317</th>\n",
       "      <td>3317</td>\n",
       "      <td>RUNX1</td>\n",
       "      <td>A122*</td>\n",
       "      <td>1</td>\n",
       "    </tr>\n",
       "    <tr>\n",
       "      <th>3318</th>\n",
       "      <td>3318</td>\n",
       "      <td>RUNX1</td>\n",
       "      <td>Fusions</td>\n",
       "      <td>1</td>\n",
       "    </tr>\n",
       "    <tr>\n",
       "      <th>3319</th>\n",
       "      <td>3319</td>\n",
       "      <td>RUNX1</td>\n",
       "      <td>R80C</td>\n",
       "      <td>4</td>\n",
       "    </tr>\n",
       "    <tr>\n",
       "      <th>3320</th>\n",
       "      <td>3320</td>\n",
       "      <td>RUNX1</td>\n",
       "      <td>K83E</td>\n",
       "      <td>4</td>\n",
       "    </tr>\n",
       "  </tbody>\n",
       "</table>\n",
       "</div>"
      ],
      "text/plain": [
       "        ID   Gene Variation  Class\n",
       "3316  3316  RUNX1     D171N      4\n",
       "3317  3317  RUNX1     A122*      1\n",
       "3318  3318  RUNX1   Fusions      1\n",
       "3319  3319  RUNX1      R80C      4\n",
       "3320  3320  RUNX1      K83E      4"
      ]
     },
     "execution_count": 340,
     "metadata": {},
     "output_type": "execute_result"
    }
   ],
   "source": [
    "train_vari_df.tail()"
   ]
  },
  {
   "cell_type": "code",
   "execution_count": 341,
   "metadata": {},
   "outputs": [
    {
     "data": {
      "text/html": [
       "<div>\n",
       "<style>\n",
       "    .dataframe thead tr:only-child th {\n",
       "        text-align: right;\n",
       "    }\n",
       "\n",
       "    .dataframe thead th {\n",
       "        text-align: left;\n",
       "    }\n",
       "\n",
       "    .dataframe tbody tr th {\n",
       "        vertical-align: top;\n",
       "    }\n",
       "</style>\n",
       "<table border=\"1\" class=\"dataframe\">\n",
       "  <thead>\n",
       "    <tr style=\"text-align: right;\">\n",
       "      <th></th>\n",
       "      <th>ID</th>\n",
       "      <th>Gene</th>\n",
       "      <th>Variation</th>\n",
       "    </tr>\n",
       "  </thead>\n",
       "  <tbody>\n",
       "    <tr>\n",
       "      <th>981</th>\n",
       "      <td>982</td>\n",
       "      <td>TP63</td>\n",
       "      <td>S580P</td>\n",
       "    </tr>\n",
       "    <tr>\n",
       "      <th>982</th>\n",
       "      <td>983</td>\n",
       "      <td>SCN4A</td>\n",
       "      <td>R672G</td>\n",
       "    </tr>\n",
       "    <tr>\n",
       "      <th>983</th>\n",
       "      <td>984</td>\n",
       "      <td>BRAF</td>\n",
       "      <td>N581H</td>\n",
       "    </tr>\n",
       "    <tr>\n",
       "      <th>984</th>\n",
       "      <td>985</td>\n",
       "      <td>TSHR</td>\n",
       "      <td>S281N</td>\n",
       "    </tr>\n",
       "    <tr>\n",
       "      <th>985</th>\n",
       "      <td>986</td>\n",
       "      <td>ASS1</td>\n",
       "      <td>S180N</td>\n",
       "    </tr>\n",
       "  </tbody>\n",
       "</table>\n",
       "</div>"
      ],
      "text/plain": [
       "      ID   Gene Variation\n",
       "981  982   TP63     S580P\n",
       "982  983  SCN4A     R672G\n",
       "983  984   BRAF     N581H\n",
       "984  985   TSHR     S281N\n",
       "985  986   ASS1     S180N"
      ]
     },
     "execution_count": 341,
     "metadata": {},
     "output_type": "execute_result"
    }
   ],
   "source": [
    "test_vari_df.tail()"
   ]
  },
  {
   "cell_type": "code",
   "execution_count": 342,
   "metadata": {
    "scrolled": true
   },
   "outputs": [
    {
     "data": {
      "text/html": [
       "<div>\n",
       "<style>\n",
       "    .dataframe thead tr:only-child th {\n",
       "        text-align: right;\n",
       "    }\n",
       "\n",
       "    .dataframe thead th {\n",
       "        text-align: left;\n",
       "    }\n",
       "\n",
       "    .dataframe tbody tr th {\n",
       "        vertical-align: top;\n",
       "    }\n",
       "</style>\n",
       "<table border=\"1\" class=\"dataframe\">\n",
       "  <thead>\n",
       "    <tr style=\"text-align: right;\">\n",
       "      <th></th>\n",
       "      <th>ID</th>\n",
       "      <th>Text</th>\n",
       "    </tr>\n",
       "  </thead>\n",
       "  <tbody>\n",
       "    <tr>\n",
       "      <th>3316</th>\n",
       "      <td>3316</td>\n",
       "      <td>Introduction  Myelodysplastic syndromes (MDS) ...</td>\n",
       "    </tr>\n",
       "    <tr>\n",
       "      <th>3317</th>\n",
       "      <td>3317</td>\n",
       "      <td>Introduction  Myelodysplastic syndromes (MDS) ...</td>\n",
       "    </tr>\n",
       "    <tr>\n",
       "      <th>3318</th>\n",
       "      <td>3318</td>\n",
       "      <td>The Runt-related transcription factor 1 gene (...</td>\n",
       "    </tr>\n",
       "    <tr>\n",
       "      <th>3319</th>\n",
       "      <td>3319</td>\n",
       "      <td>The RUNX1/AML1 gene is the most frequent targe...</td>\n",
       "    </tr>\n",
       "    <tr>\n",
       "      <th>3320</th>\n",
       "      <td>3320</td>\n",
       "      <td>The most frequent mutations associated with le...</td>\n",
       "    </tr>\n",
       "  </tbody>\n",
       "</table>\n",
       "</div>"
      ],
      "text/plain": [
       "        ID                                               Text\n",
       "3316  3316  Introduction  Myelodysplastic syndromes (MDS) ...\n",
       "3317  3317  Introduction  Myelodysplastic syndromes (MDS) ...\n",
       "3318  3318  The Runt-related transcription factor 1 gene (...\n",
       "3319  3319  The RUNX1/AML1 gene is the most frequent targe...\n",
       "3320  3320  The most frequent mutations associated with le..."
      ]
     },
     "execution_count": 342,
     "metadata": {},
     "output_type": "execute_result"
    }
   ],
   "source": [
    "train_text_df.tail()"
   ]
  },
  {
   "cell_type": "code",
   "execution_count": 343,
   "metadata": {},
   "outputs": [
    {
     "data": {
      "text/html": [
       "<div>\n",
       "<style>\n",
       "    .dataframe thead tr:only-child th {\n",
       "        text-align: right;\n",
       "    }\n",
       "\n",
       "    .dataframe thead th {\n",
       "        text-align: left;\n",
       "    }\n",
       "\n",
       "    .dataframe tbody tr th {\n",
       "        vertical-align: top;\n",
       "    }\n",
       "</style>\n",
       "<table border=\"1\" class=\"dataframe\">\n",
       "  <thead>\n",
       "    <tr style=\"text-align: right;\">\n",
       "      <th></th>\n",
       "      <th>ID</th>\n",
       "      <th>Text</th>\n",
       "    </tr>\n",
       "  </thead>\n",
       "  <tbody>\n",
       "    <tr>\n",
       "      <th>981</th>\n",
       "      <td>982</td>\n",
       "      <td>IκB kinase β (IKKβ) is involved in tumor devel...</td>\n",
       "    </tr>\n",
       "    <tr>\n",
       "      <th>982</th>\n",
       "      <td>983</td>\n",
       "      <td>he identification of subtype-specific transloc...</td>\n",
       "    </tr>\n",
       "    <tr>\n",
       "      <th>983</th>\n",
       "      <td>984</td>\n",
       "      <td>Cardio-facio-cutaneous (CFC) syndrome (MIM 115...</td>\n",
       "    </tr>\n",
       "    <tr>\n",
       "      <th>984</th>\n",
       "      <td>985</td>\n",
       "      <td>Screening for tumor suppressor genes in breast...</td>\n",
       "    </tr>\n",
       "    <tr>\n",
       "      <th>985</th>\n",
       "      <td>986</td>\n",
       "      <td>Histiocytic neoplasms are clonal, hematopoieti...</td>\n",
       "    </tr>\n",
       "  </tbody>\n",
       "</table>\n",
       "</div>"
      ],
      "text/plain": [
       "      ID                                               Text\n",
       "981  982  IκB kinase β (IKKβ) is involved in tumor devel...\n",
       "982  983  he identification of subtype-specific transloc...\n",
       "983  984  Cardio-facio-cutaneous (CFC) syndrome (MIM 115...\n",
       "984  985  Screening for tumor suppressor genes in breast...\n",
       "985  986  Histiocytic neoplasms are clonal, hematopoieti..."
      ]
     },
     "execution_count": 343,
     "metadata": {},
     "output_type": "execute_result"
    }
   ],
   "source": [
    "test_text_df.tail()"
   ]
  },
  {
   "cell_type": "markdown",
   "metadata": {},
   "source": [
    "### Stage1 data"
   ]
  },
  {
   "cell_type": "code",
   "execution_count": 344,
   "metadata": {
    "collapsed": true
   },
   "outputs": [],
   "source": [
    "stage1_solution = stage1_vari_df['ID'].tolist()"
   ]
  },
  {
   "cell_type": "code",
   "execution_count": 347,
   "metadata": {},
   "outputs": [
    {
     "data": {
      "text/html": [
       "<div>\n",
       "<style>\n",
       "    .dataframe thead tr:only-child th {\n",
       "        text-align: right;\n",
       "    }\n",
       "\n",
       "    .dataframe thead th {\n",
       "        text-align: left;\n",
       "    }\n",
       "\n",
       "    .dataframe tbody tr th {\n",
       "        vertical-align: top;\n",
       "    }\n",
       "</style>\n",
       "<table border=\"1\" class=\"dataframe\">\n",
       "  <thead>\n",
       "    <tr style=\"text-align: right;\">\n",
       "      <th></th>\n",
       "      <th>ID</th>\n",
       "      <th>Text</th>\n",
       "    </tr>\n",
       "  </thead>\n",
       "  <tbody>\n",
       "    <tr>\n",
       "      <th>5663</th>\n",
       "      <td>5663</td>\n",
       "      <td>The realization in the late 1970s that RAS har...</td>\n",
       "    </tr>\n",
       "    <tr>\n",
       "      <th>5664</th>\n",
       "      <td>5664</td>\n",
       "      <td>Hemizygous deletions are common molecular abno...</td>\n",
       "    </tr>\n",
       "    <tr>\n",
       "      <th>5665</th>\n",
       "      <td>5665</td>\n",
       "      <td>All most R267W of has with to SMARTpool invest...</td>\n",
       "    </tr>\n",
       "    <tr>\n",
       "      <th>5666</th>\n",
       "      <td>5666</td>\n",
       "      <td>Abstract Blood samples from 125 unrelated fami...</td>\n",
       "    </tr>\n",
       "    <tr>\n",
       "      <th>5667</th>\n",
       "      <td>5667</td>\n",
       "      <td>Loss of DNA mismatch repair (MMR) in humans, m...</td>\n",
       "    </tr>\n",
       "  </tbody>\n",
       "</table>\n",
       "</div>"
      ],
      "text/plain": [
       "        ID                                               Text\n",
       "5663  5663  The realization in the late 1970s that RAS har...\n",
       "5664  5664  Hemizygous deletions are common molecular abno...\n",
       "5665  5665  All most R267W of has with to SMARTpool invest...\n",
       "5666  5666  Abstract Blood samples from 125 unrelated fami...\n",
       "5667  5667  Loss of DNA mismatch repair (MMR) in humans, m..."
      ]
     },
     "execution_count": 347,
     "metadata": {},
     "output_type": "execute_result"
    }
   ],
   "source": [
    "stage1_text_df.tail()"
   ]
  },
  {
   "cell_type": "code",
   "execution_count": 352,
   "metadata": {
    "collapsed": true
   },
   "outputs": [],
   "source": [
    "temp_ls = []\n",
    "for i in stage1_solution:\n",
    "    temp = stage1_text_df[stage1_text_df['ID']==i]\n",
    "    temp_ls.append(temp)\n",
    "stage1_text_new = pd.concat(temp_ls)"
   ]
  },
  {
   "cell_type": "code",
   "execution_count": 354,
   "metadata": {},
   "outputs": [
    {
     "data": {
      "text/html": [
       "<div>\n",
       "<style>\n",
       "    .dataframe thead tr:only-child th {\n",
       "        text-align: right;\n",
       "    }\n",
       "\n",
       "    .dataframe thead th {\n",
       "        text-align: left;\n",
       "    }\n",
       "\n",
       "    .dataframe tbody tr th {\n",
       "        vertical-align: top;\n",
       "    }\n",
       "</style>\n",
       "<table border=\"1\" class=\"dataframe\">\n",
       "  <thead>\n",
       "    <tr style=\"text-align: right;\">\n",
       "      <th></th>\n",
       "      <th>ID</th>\n",
       "      <th>Text</th>\n",
       "    </tr>\n",
       "  </thead>\n",
       "  <tbody>\n",
       "    <tr>\n",
       "      <th>5600</th>\n",
       "      <td>5600</td>\n",
       "      <td>The systematic characterization of somatic mut...</td>\n",
       "    </tr>\n",
       "    <tr>\n",
       "      <th>5609</th>\n",
       "      <td>5609</td>\n",
       "      <td>The von Hippel-Lindau tumor suppressor protein...</td>\n",
       "    </tr>\n",
       "    <tr>\n",
       "      <th>5626</th>\n",
       "      <td>5626</td>\n",
       "      <td>Genetic alterations that activate the mitogen-...</td>\n",
       "    </tr>\n",
       "    <tr>\n",
       "      <th>5628</th>\n",
       "      <td>5628</td>\n",
       "      <td>Abstract The functional consequences of misse...</td>\n",
       "    </tr>\n",
       "    <tr>\n",
       "      <th>5650</th>\n",
       "      <td>5650</td>\n",
       "      <td>The transcription factor and tumor suppressor ...</td>\n",
       "    </tr>\n",
       "  </tbody>\n",
       "</table>\n",
       "</div>"
      ],
      "text/plain": [
       "        ID                                               Text\n",
       "5600  5600  The systematic characterization of somatic mut...\n",
       "5609  5609  The von Hippel-Lindau tumor suppressor protein...\n",
       "5626  5626  Genetic alterations that activate the mitogen-...\n",
       "5628  5628   Abstract The functional consequences of misse...\n",
       "5650  5650  The transcription factor and tumor suppressor ..."
      ]
     },
     "execution_count": 354,
     "metadata": {},
     "output_type": "execute_result"
    }
   ],
   "source": [
    "stage1_text_new.tail()"
   ]
  },
  {
   "cell_type": "markdown",
   "metadata": {},
   "source": [
    "##### 데이터 셋의 구성\n",
    "- variation과 text set은 ID를 통해 연결되어 있다\n",
    "- Gene: 돌연변이가 발생한 유전자\n",
    "- Variation: 해당 돌연변이에 대한 아미노산 변화\n",
    "- Class: 돌연변이의 분류(1~9 Class)\n",
    "- Text: 돌연변이 분류의 근거가 되는 임상 기록\n",
    "  \n",
    "##### 분석의 목표\n",
    "- Gene, Variation, Text를 통해 Class를 분류하는 것\n",
    "- Class의 분류는 임상 결과인 Text를 기반으로 이뤄졌다고 한다\n",
    "- 따라서 TF-IDF 등 text 분석 기법을 통해 Class를 분류할 필요가 있다고 판단됨"
   ]
  },
  {
   "cell_type": "markdown",
   "metadata": {},
   "source": [
    "# EDA"
   ]
  },
  {
   "cell_type": "code",
   "execution_count": 216,
   "metadata": {},
   "outputs": [
    {
     "data": {
      "text/plain": [
       "7    953\n",
       "4    686\n",
       "1    568\n",
       "2    452\n",
       "6    275\n",
       "5    242\n",
       "3     89\n",
       "9     37\n",
       "8     19\n",
       "Name: Class, dtype: int64"
      ]
     },
     "execution_count": 216,
     "metadata": {},
     "output_type": "execute_result"
    },
    {
     "data": {
      "image/png": "[encoded data removed]",
      "text/plain": [
       "<matplotlib.figure.Figure at 0x14468e630>"
      ]
     },
     "metadata": {},
     "output_type": "display_data"
    }
   ],
   "source": [
    "sns.countplot(x=\"Class\", data=train_vari_df)\n",
    "train_vari_df.Class.value_counts()"
   ]
  },
  {
   "cell_type": "code",
   "execution_count": 217,
   "metadata": {},
   "outputs": [
    {
     "name": "stdout",
     "output_type": "stream",
     "text": [
      "BRCA1     264\n",
      "TP53      163\n",
      "EGFR      141\n",
      "PTEN      126\n",
      "BRCA2     125\n",
      "KIT        99\n",
      "BRAF       93\n",
      "ALK        69\n",
      "ERBB2      69\n",
      "PDGFRA     60\n",
      "Name: Gene, dtype: int64 \n",
      "\n",
      "SDHB       1\n",
      "HLA-B      1\n",
      "WHSC1L1    1\n",
      "RYBP       1\n",
      "RRAS2      1\n",
      "GNAQ       1\n",
      "CDKN2C     1\n",
      "ERRFI1     1\n",
      "LATS1      1\n",
      "GLI1       1\n",
      "Name: Gene, dtype: int64\n"
     ]
    },
    {
     "data": {
      "text/plain": [
       "264"
      ]
     },
     "execution_count": 217,
     "metadata": {},
     "output_type": "execute_result"
    }
   ],
   "source": [
    "gene_counts = train_vari_df.Gene.value_counts()\n",
    "print(gene_counts.sort_values(ascending=False)[:10],'\\n')\n",
    "print(gene_counts.sort_values()[:10])\n",
    "len(gene_counts)"
   ]
  },
  {
   "cell_type": "code",
   "execution_count": 218,
   "metadata": {
    "scrolled": false
   },
   "outputs": [
    {
     "data": {
      "image/png": "[encoded data removed]",
      "text/plain": [
       "<matplotlib.figure.Figure at 0x144e80d68>"
      ]
     },
     "metadata": {},
     "output_type": "display_data"
    }
   ],
   "source": [
    "fig, axs = plt.subplots(ncols=3, nrows=3, figsize=(15,15))\n",
    "for i in range(3):\n",
    "    for j in range(3):\n",
    "        gene_count_grp = train_vari_df[train_vari_df[\"Class\"]==((i*3+j)+1)].groupby('Gene')[\"ID\"].count().reset_index()\n",
    "        sorted_gene_group = gene_count_grp.sort_values('ID', ascending=False)\n",
    "        sorted_gene_group_top_7 = sorted_gene_group[:7]\n",
    "        sns.barplot(x=\"Gene\", y=\"ID\", data=sorted_gene_group_top_7, ax=axs[i][j])"
   ]
  },
  {
   "cell_type": "markdown",
   "metadata": {},
   "source": [
    "- BRCA1 은 Class1, 3, 5, 6 에서 많이 분포되어 있다.\n",
    "- 특히 Class5 에서 BRCA1 이 많은 비율을 차지한다.\n",
    "- BRCA1과 2는 비슷한 분포를 보인다.\n",
    "- Class2, 7, 8, 9 에서는 BRCA의 비중이 작은 것으로 판단된다.\n",
    "- TP53은 2번째로 많은 Gene이지만, Class1, 4 에서 유의미한 비중을 가지는 것으로 보인다.\n",
    "- EGFR은 KIT과 상관도가 높은 것으로 보이며, Class 2, 7 을 분류하는 데 유의미 할 것으로 판단된다.\n",
    "- SF3B1 은 Class9 에서 큰 비중을 차지한다."
   ]
  },
  {
   "cell_type": "code",
   "execution_count": 219,
   "metadata": {},
   "outputs": [
    {
     "name": "stdout",
     "output_type": "stream",
     "text": [
      "Truncating Mutations    93\n",
      "Deletion                74\n",
      "Amplification           71\n",
      "Fusions                 34\n",
      "Overexpression           6\n",
      "G12V                     4\n",
      "E17K                     3\n",
      "Q61H                     3\n",
      "Q61R                     3\n",
      "T58I                     3\n",
      "Name: Variation, dtype: int64 \n",
      "\n",
      "S214C     1\n",
      "G305R     1\n",
      "V109G     1\n",
      "V1833M    1\n",
      "Y68D      1\n",
      "F346V     1\n",
      "L115R     1\n",
      "S1722F    1\n",
      "P287T     1\n",
      "Q157P     1\n",
      "Name: Variation, dtype: int64 \n",
      "\n"
     ]
    },
    {
     "data": {
      "text/plain": [
       "2996"
      ]
     },
     "execution_count": 219,
     "metadata": {},
     "output_type": "execute_result"
    }
   ],
   "source": [
    "Vari_counts = train_vari_df.Variation.value_counts()\n",
    "print(Vari_counts.sort_values(ascending=False)[:10],'\\n')\n",
    "print(Vari_counts.sort_values()[:10],'\\n')\n",
    "len(Vari_counts)"
   ]
  },
  {
   "cell_type": "code",
   "execution_count": 220,
   "metadata": {
    "scrolled": true
   },
   "outputs": [
    {
     "name": "stdout",
     "output_type": "stream",
     "text": [
      "Cyclin-dependent kinases (CDKs) regulate a variety of fundamental cellular processes. CDK10 stands out as one of the last orphan CDKs for which no activating cyclin has been identified and no kinase activity revealed. Previous work has shown that CDK10 silencing increases ETS2 (v-ets erythroblastosis virus E26 oncogene homolog 2)-driven activation of the MAPK pathway, which confers tamoxifen resistance to breast cancer cells. The precise mechanisms by which CDK10 modulates ETS2 activity, and more generally the functions of CDK10, remain elusive. Here we demonstrate that CDK10 is a cyclin-dependent kinase by identifying cyclin M as an activating cyclin. Cyclin M, an orphan cyclin, is the product of FAM58A, whose mutations cause STAR syndrome, a human developmental anomaly whose features include toe syndactyly, telecanthus, and anogenital and renal malformations. We show that STAR syndrome-associated cyclin M mutants are unable to interact with CDK10. Cyclin M silencing phenocopies CDK10 silencing in increasing c-Raf and in conferring tamoxifen resistance to breast cancer cells. CDK10/cyclin M phosphorylates ETS2 in vitro, and in cells it positively controls ETS2 degradation by the proteasome. ETS2 protein levels are increased in cells derived from a STAR patient, and this increase is attributable to decreased cyclin M levels. Altogether, our results reveal an additional regulatory mechanism for ETS2, which plays key roles in cancer and development. They also shed light on the molecular mechanisms underlying STAR syndrome.Cyclin-dependent kinases (CDKs) play a pivotal role in the control of a number of fundamental cellular processes (1). The human genome contains 21 genes encoding proteins that can be considered as members of the CDK family owing to their sequence similarity with bona fide CDKs, those known to be activated by cyclins (2). Although discovered almost 20 y ago (3, 4), CDK10 remains one of the two CDKs without an identified cyclin partner. This knowledge gap has largely impeded the exploration of its biological functions. CDK10 can act as a positive cell cycle regulator in some cells (5, 6) or as a tumor suppressor in others (7, 8). CDK10 interacts with the ETS2 (v-ets erythroblastosis virus E26 oncogene homolog 2) transcription factor and inhibits its transcriptional activity through an unknown mechanism (9). CDK10 knockdown derepresses ETS2, which increases the expression of the c-Raf protein kinase, activates the MAPK pathway, and induces resistance of MCF7 cells to tamoxifen (6).Here, we deorphanize CDK10 by identifying cyclin M, the product of FAM58A, as a binding partner. Mutations in this gene that predict absence or truncation of cyclin M are associated with STAR syndrome, whose features include toe syndactyly, telecanthus, and anogenital and renal malformations in heterozygous females (10). However, both the functions of cyclin M and the pathogenesis of STAR syndrome remain unknown. We show that a recombinant CDK10/cyclin M heterodimer is an active protein kinase that phosphorylates ETS2 in vitro. Cyclin M silencing phenocopies CDK10 silencing in increasing c-Raf and phospho-ERK expression levels and in inducing tamoxifen resistance in estrogen receptor (ER)+ breast cancer cells. We show that CDK10/cyclin M positively controls ETS2 degradation by the proteasome, through the phosphorylation of two neighboring serines. Finally, we detect an increased ETS2 expression level in cells derived from a STAR patient, and we demonstrate that it is attributable to the decreased cyclin M expression level observed in these cells.Previous SectionNext SectionResultsA yeast two-hybrid (Y2H) screen unveiled an interaction signal between CDK10 and a mouse protein whose C-terminal half presents a strong sequence homology with the human FAM58A gene product [whose proposed name is cyclin M (11)]. We thus performed Y2H mating assays to determine whether human CDK10 interacts with human cyclin M (Fig. 1 A–C). The longest CDK10 isoform (P1) expressed as a bait protein produced a strong interaction phenotype with full-length cyclin M (expressed as a prey protein) but no detectable phenotype with cyclin D1, p21 (CIP1), and Cdi1 (KAP), which are known binding partners of other CDKs (Fig. 1B). CDK1 and CDK3 also produced Y2H signals with cyclin M, albeit notably weaker than that observed with CDK10 (Fig. 1B). An interaction phenotype was also observed between full-length cyclin M and CDK10 proteins expressed as bait and prey, respectively (Fig. S1A). We then tested different isoforms of CDK10 and cyclin M originating from alternative gene splicing, and two truncated cyclin M proteins corresponding to the hypothetical products of two mutated FAM58A genes found in STAR syndrome patients (10). None of these shorter isoforms produced interaction phenotypes (Fig. 1 A and C and Fig. S1A).Fig. 1.In a new window Download PPTFig. 1.CDK10 and cyclin M form an interaction complex. (A) Schematic representation of the different protein isoforms analyzed by Y2H assays. Amino acid numbers are indicated. Black boxes indicate internal deletions. The red box indicates a differing amino acid sequence compared with CDK10 P1. (B) Y2H assay between a set of CDK proteins expressed as baits (in fusion to the LexA DNA binding domain) and CDK interacting proteins expressed as preys (in fusion to the B42 transcriptional activator). pEG202 and pJG4-5 are the empty bait and prey plasmids expressing LexA and B42, respectively. lacZ was used as a reporter gene, and blue yeast are indicative of a Y2H interaction phenotype. (C) Y2H assay between the different CDK10 and cyclin M isoforms. The amino-terminal region of ETS2, known to interact with CDK10 (9), was also assayed. (D) Western blot analysis of Myc-CDK10 (wt or kd) and CycM-V5-6His expression levels in transfected HEK293 cells. (E) Western blot analysis of Myc-CDK10 (wt or kd) immunoprecipitates obtained using the anti-Myc antibody. “Inputs” correspond to 10 μg total lysates obtained from HEK293 cells coexpressing Myc-CDK10 (wt or kd) and CycM-V5-6His. (F) Western blot analysis of immunoprecipitates obtained using the anti-CDK10 antibody or a control goat antibody, from human breast cancer MCF7 cells. “Input” corresponds to 30 μg MCF7 total cell lysates. The lower band of the doublet observed on the upper panel comigrates with the exogenously expressed untagged CDK10 and thus corresponds to endogenous CDK10. The upper band of the doublet corresponds to a nonspecific signal, as demonstrated by it insensitivity to either overexpression of CDK10 (as seen on the left lane) or silencing of CDK10 (Fig. S2B). Another experiment with a longer gel migration is shown in Fig. S1D.Next we examined the ability of CDK10 and cyclin M to interact when expressed in human cells (Fig. 1 D and E). We tested wild-type CDK10 (wt) and a kinase dead (kd) mutant bearing a D181A amino acid substitution that abolishes ATP binding (12). We expressed cyclin M-V5-6His and/or Myc-CDK10 (wt or kd) in a human embryonic kidney cell line (HEK293). The expression level of cyclin M-V5-6His was significantly increased upon coexpression with Myc-CDK10 (wt or kd) and, to a lesser extent, that of Myc-CDK10 (wt or kd) was increased upon coexpression with cyclin M-V5-6His (Fig. 1D). We then immunoprecipitated Myc-CDK10 proteins and detected the presence of cyclin M in the CDK10 (wt) and (kd) immunoprecipitates only when these proteins were coexpressed pair-wise (Fig. 1E). We confirmed these observations by detecting the presence of Myc-CDK10 in cyclin M-V5-6His immunoprecipitates (Fig. S1B). These experiments confirmed the lack of robust interaction between the CDK10.P2 isoform and cyclin M (Fig. S1C). To detect the interaction between endogenous proteins, we performed immunoprecipitations on nontransfected MCF7 cells derived from a human breast cancer. CDK10 and cyclin M antibodies detected their cognate endogenous proteins by Western blotting. We readily detected cyclin M in immunoprecipitates obtained with the CDK10 antibody but not with a control antibody (Fig. 1F). These results confirm the physical interaction between CDK10 and cyclin M in human cells.To unveil a hypothesized CDK10/cyclin M protein kinase activity, we produced GST-CDK10 and StrepII-cyclin M fusion proteins in insect cells, either individually or in combination. We observed that GST-CDK10 and StrepII-cyclin M copurified, thus confirming their interaction in yet another cellular model (Fig. 2A). We then performed in vitro kinase assays with purified proteins, using histone H1 as a generic substrate. Histone H1 phosphorylation was detected only from lysates of cells coexpressing GST-CDK10 and StrepII-cyclin M. No phosphorylation was detected when GST-CDK10 or StrepII-cyclin M were expressed alone, or when StrepII-cyclin M was coexpressed with GST-CDK10(kd) (Fig. 2A). Next we investigated whether ETS2, which is known to interact with CDK10 (9) (Fig. 1C), is a phosphorylation substrate of CDK10/cyclin M. We detected strong phosphorylation of ETS2 by the GST-CDK10/StrepII-cyclin M purified heterodimer, whereas no phosphorylation was detected using GST-CDK10 alone or GST-CDK10(kd)/StrepII-cyclin M heterodimer (Fig. 2B).Fig. 2.In a new window Download PPTFig. 2.CDK10 is a cyclin M-dependent protein kinase. (A) In vitro protein kinase assay on histone H1. Lysates from insect cells expressing different proteins were purified on a glutathione Sepharose matrix to capture GST-CDK10(wt or kd) fusion proteins alone, or in complex with STR-CycM fusion protein. Purified protein expression levels were analyzed by Western blots (Top and Upper Middle). The kinase activity was determined by autoradiography of histone H1, whose added amounts were visualized by Coomassie staining (Lower Middle and Bottom). (B) Same as in A, using purified recombinant 6His-ETS2 as a substrate.CDK10 silencing has been shown to increase ETS2-driven c-RAF transcription and to activate the MAPK pathway (6). We investigated whether cyclin M is also involved in this regulatory pathway. To aim at a highly specific silencing, we used siRNA pools (mix of four different siRNAs) at low final concentration (10 nM). Both CDK10 and cyclin M siRNA pools silenced the expression of their cognate targets (Fig. 3 A and C and Fig. S2) and, interestingly, the cyclin M siRNA pool also caused a marked decrease in CDK10 protein level (Fig. 3A and Fig. S2B). These results, and those shown in Fig. 1D, suggest that cyclin M binding stabilizes CDK10. Cyclin M silencing induced an increase in c-Raf protein and mRNA levels (Fig. 3 B and C) and in phosphorylated ERK1 and ERK2 protein levels (Fig. S3B), similarly to CDK10 silencing. As expected from these effects (6), CDK10 and cyclin M silencing both decreased the sensitivity of ER+ MCF7 cells to tamoxifen, to a similar extent. The combined silencing of both genes did not result in a higher resistance to the drug (Fig. S3C). Altogether, these observations demonstrate a functional interaction between cyclin M and CDK10, which negatively controls ETS2.Fig. 3.In a new window Download PPTFig. 3.Cyclin M silencing up-regulates c-Raf expression. (A) Western blot analysis of endogenous CDK10 and cyclin M expression levels in MCF7 cells, in response to siRNA-mediated gene silencing. (B) Western blot analysis of endogenous c-Raf expression levels in MCF7 cells, in response to CDK10 or cyclin M silencing. A quantification is shown in Fig. S3A. (C) Quantitative RT-PCR analysis of CDK10, cyclin M, and c-Raf mRNA levels, in response to CDK10 (Upper) or cyclin M (Lower) silencing. **P ≤ 0.01; ***P ≤ 0.001.We then wished to explore the mechanism by which CDK10/cyclin M controls ETS2. ETS2 is a short-lived protein degraded by the proteasome (13). A straightforward hypothesis is that CDK10/cyclin M positively controls ETS2 degradation. We thus examined the impact of CDK10 or cyclin M silencing on ETS2 expression levels. The silencing of CDK10 and that of cyclin M caused an increase in the expression levels of an exogenously expressed Flag-ETS2 protein (Fig. S4A), as well as of the endogenous ETS2 protein (Fig. 4A). This increase is not attributable to increased ETS2 mRNA levels, which marginally fluctuated in response to CDK10 or cyclin M silencing (Fig. S4B). We then examined the expression levels of the Flag-tagged ETS2 protein when expressed alone or in combination with Myc-CDK10 or -CDK10(kd), with or without cyclin M-V5-6His. Flag-ETS2 was readily detected when expressed alone or, to a lesser extent, when coexpressed with CDK10(kd). However, its expression level was dramatically decreased when coexpressed with CDK10 alone, or with CDK10 and cyclin M (Fig. 4B). These observations suggest that endogenous cyclin M levels are in excess compared with those of CDK10 in MCF7 cells, and they show that the major decrease in ETS2 levels observed upon CDK10 coexpression involves CDK10 kinase activity. Treatment of cells coexpressing Flag-ETS2, CDK10, and cyclin M with the proteasome inhibitor MG132 largely rescued Flag-ETS2 expression levels (Fig. 4B).Fig. 4.In a new window Download PPTFig. 4.CDK10/cyclin M controls ETS2 stability in human cancer derived cells. (A) Western blot analysis of endogenous ETS2 expression levels in MCF7 cells, in response to siRNA-mediated CDK10 and/or cyclin M silencing. A quantification is shown in Fig. S4B. (B) Western blot analysis of exogenously expressed Flag-ETS2 protein levels in MCF7 cells cotransfected with empty vectors or coexpressing Myc-CDK10 (wt or kd), or Myc-CDK10/CycM-V5-6His. The latter cells were treated for 16 h with the MG132 proteasome inhibitor. Proper expression of CDK10 and cyclin M tagged proteins was verified by Western blot analysis. (C and D) Western blot analysis of expression levels of exogenously expressed Flag-ETS2 wild-type or mutant proteins in MCF7 cells, in the absence of (C) or in response to (D) Myc-CDK10/CycM-V5-6His expression. Quantifications are shown in Fig. S4 C and D.A mass spectrometry analysis of recombinant ETS2 phosphorylated by CDK10/cyclin M in vitro revealed the existence of multiple phosphorylated residues, among which are two neighboring phospho-serines (at positions 220 and 225) that may form a phosphodegron (14) (Figs. S5–S8). To confirm this finding, we compared the phosphorylation level of recombinant ETS2wt with that of ETS2SASA protein, a mutant bearing alanine substitutions of these two serines. As expected from the existence of multiple phosphorylation sites, we detected a small but reproducible, significant decrease of phosphorylation level of ETS2SASA compared with ETS2wt (Fig. S9), thus confirming that Ser220/Ser225 are phosphorylated by CDK10/cyclin M. To establish a direct link between ETS2 phosphorylation by CDK10/cyclin M and degradation, we examined the expression levels of Flag-ETS2SASA. In the absence of CDK10/cyclin M coexpression, it did not differ significantly from that of Flag-ETS2. This is contrary to that of Flag-ETS2DBM, bearing a deletion of the N-terminal destruction (D-) box that was previously shown to be involved in APC-Cdh1–mediated degradation of ETS2 (13) (Fig. 4C). However, contrary to Flag-ETS2 wild type, the expression level of Flag-ETS2SASA remained insensitive to CDK10/cyclin M coexpression (Fig. 4D). Altogether, these results suggest that CDK10/cyclin M directly controls ETS2 degradation through the phosphorylation of these two serines.Finally, we studied a lymphoblastoid cell line derived from a patient with STAR syndrome, bearing FAM58A mutation c.555+1G>A, predicted to result in aberrant splicing (10). In accordance with incomplete skewing of X chromosome inactivation previously found in this patient, we detected a decreased expression level of cyclin M protein in the STAR cell line, compared with a control lymphoblastoid cell line. In line with our preceding observations, we detected an increased expression level of ETS2 protein in the STAR cell line compared with the control (Fig. 5A and Fig. S10A). We then examined by quantitative RT-PCR the mRNA expression levels of the corresponding genes. The STAR cell line showed a decreased expression level of cyclin M mRNA but an expression level of ETS2 mRNA similar to that of the control cell line (Fig. 5B). To demonstrate that the increase in ETS2 protein expression is indeed a result of the decreased cyclin M expression observed in the STAR patient-derived cell line, we expressed cyclin M-V5-6His in this cell line. This expression caused a decrease in ETS2 protein levels (Fig. 5C).Fig. 5.In a new window Download PPTFig. 5.Decreased cyclin M expression in STAR patient-derived cells results in increased ETS2 protein level. (A) Western blot analysis of cyclin M and ETS2 protein levels in a STAR patient-derived lymphoblastoid cell line and in a control lymphoblastoid cell line, derived from a healthy individual. A quantification is shown in Fig. S10A. (B) Quantitative RT-PCR analysis of cyclin M and ETS2 mRNA levels in the same cells. ***P ≤ 0.001. (C) Western blot analysis of ETS2 protein levels in the STAR patient-derived lymphoblastoid cell line transfected with an empty vector or a vector directing the expression of cyclin M-V5-6His. Another Western blot revealing endogenously and exogenously expressed cyclin M levels is shown in Fig. S10B. A quantification of ETS2 protein levels is shown in Fig. S10C.Previous SectionNext SectionDiscussionIn this work, we unveil the interaction between CDK10, the last orphan CDK discovered in the pregenomic era (2), and cyclin M, the only cyclin associated with a human genetic disease so far, and whose functions remain unknown (10). The closest paralogs of CDK10 within the CDK family are the CDK11 proteins, which interact with L-type cyclins (15). Interestingly, the closest paralog of these cyclins within the cyclin family is cyclin M (Fig. S11). The fact that none of the shorter CDK10 isoforms interact robustly with cyclin M suggests that alternative splicing of the CDK10 gene (16, 17) plays an important role in regulating CDK10 functions.The functional relevance of the interaction between CDK10 and cyclin M is supported by different observations. Both proteins seem to enhance each other’s stability, as judged from their increased expression levels when their partner is exogenously coexpressed (Fig. 1D) and from the much reduced endogenous CDK10 expression level observed in response to cyclin M silencing (Fig. 3A and Fig. S2B). CDK10 is subject to ubiquitin-mediated degradation (18). Our observations suggest that cyclin M protects CDK10 from such degradation and that it is the only cyclin partner of CDK10, at least in MCF7 cells. They also suggest that cyclin M stability is enhanced upon binding to CDK10, independently from its kinase activity, as seen for cyclin C and CDK8 (19). We uncover a cyclin M-dependent CDK10 protein kinase activity in vitro, thus demonstrating that this protein, which was named a CDK on the sole basis of its amino acid sequence, is indeed a genuine cyclin-dependent kinase. Our Y2H assays reveal that truncated cyclin M proteins corresponding to the hypothetical products of two STAR syndrome-associated FAM58A mutations do not produce an interaction phenotype with CDK10. Hence, regardless of whether these mutated mRNAs undergo nonsense-mediated decay (as suggested from the decreased cyclin M mRNA levels in STAR cells, shown in Fig. 5B) or give rise to truncated cyclin M proteins, females affected by the STAR syndrome must exhibit compromised CDK10/cyclin M kinase activity at least in some tissues and during specific developmental stages.We show that ETS2, a known interactor of CDK10, is a phosphorylation substrate of CDK10/cyclin M in vitro and that CDK10/cyclin M kinase activity positively controls ETS2 degradation by the proteasome. This control seems to be exerted through a very fine mechanism, as judged from the sensitivity of ETS2 levels to partially decreased CDK10 and cyclin M levels, achieved in MCF7 cells and observed in STAR cells, respectively. These findings offer a straightforward explanation for the already reported up-regulation of ETS2-driven transcription of c-RAF in response to CDK10 silencing (6). We bring evidence that CDK10/cyclin M directly controls ETS2 degradation through the phosphorylation of two neighboring serines, which may form a noncanonical β-TRCP phosphodegron (DSMCPAS) (14). Because none of these two serines precede a proline, they do not conform to usual CDK phosphorylation sites. However, multiple so-called transcriptional CDKs (CDK7, -8, -9, and -11) (to which CDK10 may belong; Fig. S11) have been shown to phosphorylate a variety of motifs in a non–proline-directed fashion, especially in the context of molecular docking with the substrate (20). Here, it can be hypothesized that the high-affinity interaction between CDK10 and the Pointed domain of ETS2 (6, 9) (Fig. 1C) would allow docking-mediated phosphorylation of atypical sites. The control of ETS2 degradation involves a number of players, including APC-Cdh1 (13) and the cullin-RING ligase CRL4 (21). The formal identification of the ubiquitin ligase involved in the CDK10/cyclin M pathway and the elucidation of its concerted action with the other ubiquitin ligases to regulate ETS2 degradation will require further studies.Our results present a number of significant biological and medical implications. First, they shed light on the regulation of ETS2, which plays an important role in development (22) and is frequently deregulated in many cancers (23). Second, our results contribute to the understanding of the molecular mechanisms causing tamoxifen resistance associated with reduced CDK10 expression levels, and they suggest that, like CDK10 (6), cyclin M could also be a predictive clinical marker of hormone therapy response of ERα-positive breast cancer patients. Third, our findings offer an interesting hypothesis on the molecular mechanisms underlying STAR syndrome. Ets2 transgenic mice showing a less than twofold overexpression of Ets2 present severe cranial abnormalities (24), and those observed in STAR patients could thus be caused at least in part by increased ETS2 protein levels. Another expected consequence of enhanced ETS2 expression levels would be a decreased risk to develop certain types of cancers and an increased risk to develop others. Studies on various mouse models (including models of Down syndrome, in which three copies of ETS2 exist) have revealed that ETS2 dosage can repress or promote tumor growth and, hence, that ETS2 exerts noncell autonomous functions in cancer (25). Intringuingly, one of the very few STAR patients identified so far has been diagnosed with a nephroblastoma (26). Finally, our findings will facilitate the general exploration of the biological functions of CDK10 and, in particular, its role in the control of cell division. Previous studies have suggested either a positive role in cell cycle control (5, 6) or a tumor-suppressive activity in some cancers (7, 8). The severe growth retardation exhibited by STAR patients strongly suggests that CDK10/cyclin M plays an important role in the control of cell proliferation.Previous SectionNext SectionMaterials and MethodsCloning of CDK10 and cyclin M cDNAs, plasmid constructions, tamoxifen response analysis, quantitative RT-PCR, mass spectrometry experiments, and antibody production are detailed in SI Materials and Methods.Yeast Two-Hybrid Interaction Assays. We performed yeast interaction mating assays as previously described (27).Mammalian Cell Cultures and Transfections. We grew human HEK293 and MCF7 cells in DMEM supplemented with 10% (vol/vol) FBS (Invitrogen), and we grew lymphoblastoid cells in RPMI 1640 GlutaMAX supplemented with 15% (vol/vol) FBS. We transfected HEK293 and MCF7 cells using Lipofectamine 2000 (Invitrogen) for plasmids, Lipofectamine RNAiMAX (Invitrogen) for siRNAs, and Jetprime (Polyplus) for plasmids/siRNAs combinations according to the manufacturers’ instructions. We transfected lymphoblastoid cells by electroporation (Neon, Invitrogen). For ETS2 stability studies we treated MCF7 cells 32 h after transfection with 10 μM MG132 (Fisher Scientific) for 16 h.Coimmunoprecipitation and Western Blot Experiments. We collected cells by scraping in PBS (or centrifugation for lymphoblastoid cells) and lysed them by sonication in a lysis buffer containing 60 mM β-glycerophosphate, 15 mM p-nitrophenylphosphate, 25 mM 3-(N-morpholino)propanesulfonic acid (Mops) (pH 7.2), 15 mM EGTA, 15 mM MgCl2, 1 mM Na vanadate, 1 mM NaF, 1mM phenylphosphate, 0.1% Nonidet P-40, and a protease inhibitor mixture (Roche). We spun the lysates 15 min at 20,000 × g at 4 °C, collected the supernatants, and determined the protein content using a Bradford assay. We performed the immunoprecipitation experiments on 500 μg of total proteins, in lysis buffer. We precleared the lysates with 20 μL of protein A or G-agarose beads, incubated 1 h 4 °C on a rotating wheel. We added 5 μg of antibody to the supernatants, incubated 1 h 4 °C on a rotating wheel, added 20 μL of protein A or G-agarose beads, and incubated 1 h 4 °C on a rotating wheel. We collected the beads by centrifugation 30 s at 18,000 × g at 4 °C and washed three times in a bead buffer containing 50 mM Tris (pH 7.4), 5 mM NaF, 250 mM NaCl, 5 mM EDTA, 5 mM EGTA, 0.1% Nonidet P-40, and a protease inhibitor coktail (Roche). We directly added sample buffer to the washed pellets, heat-denatured the proteins, and ran the samples on 10% Bis-Tris SDS/PAGE. We transferred the proteins onto Hybond nitrocellulose membranes and processed the blots according to standard procedures. For Western blot experiments, we used the following primary antibodies: anti-Myc (Abcam ab9106, 1:2,000), anti-V5 (Invitrogen R960, 1:5,000), anti-tubulin (Santa Cruz Biotechnology B-7, 1:500), anti-CDK10 (Covalab pab0847p, 1:500 or Santa Cruz Biotechnology C-19, 1:500), anti-CycM (home-made, dilution 1:500 or Covalab pab0882-P, dilution 1:500), anti-Raf1 (Santa Cruz Biotechnology C-20, 1:1,000), anti-ETS2 (Santa Cruz Biotechnology C-20, 1:1,000), anti-Flag (Sigma F7425, 1:1,000), and anti-actin (Sigma A5060, 1:5,000). We used HRP-coupled anti-goat (Santa Cruz Biotechnology SC-2033, dilution 1:2,000), anti-mouse (Bio-Rad 170–6516, dilution 1:3,000) or anti-rabbit (Bio-Rad 172–1019, 1:5,000) as secondary antibodies. We revealed the blots by enhanced chemiluminescence (SuperSignal West Femto, Thermo Scientific).Production and Purification of Recombinant Proteins.GST-CDK10(kd)/StrepII-CycM. We generated recombinant bacmids in DH10Bac Escherichia coli and baculoviruses in Sf9 cells using the Bac-to-Bac system, as described by the provider (Invitrogen). We infected Sf9 cells with GST-CDK10- (or GST-CDK10kd)-producing viruses, or coinfected the cells with StrepII-CycM–producing viruses, and we collected the cells 72 h after infection. To purify GST-fusion proteins, we spun 250 mL cells and resuspended the pellet in 40 mL lysis buffer (PBS, 250 mM NaCl, 0.5% Nonidet P-40, 50 mM NaF, 10 mM β-glycerophosphate, and 0.3 mM Na-vanadate) containing a protease inhibitor mixture (Roche). We lysed the cells by sonication, spun the lysate 30 min at 15,000 × g, collected the soluble fraction, and added it to a 1-mL glutathione-Sepharose matrix. We incubated 1 h at 4 °C, washed four times with lysis buffer, one time with kinase buffer A (see below), and finally resuspended the beads in 100 μL kinase buffer A containing 10% (vol/vol) glycerol for storage.6His-ETS2. We transformed Origami2 DE3 (Novagen) with the 6His-ETS2 expression vector. We induced expression with 0.2 mM isopropyl-β-d-1-thiogalactopyranoside for 3 h at 22 °C. To purify 6His-ETS2, we spun 50 mL cells and resuspended the pellet in 2 mL lysis buffer (PBS, 300 mM NaCl, 10 mM Imidazole, 1 mM DTT, and 0.1% Nonidet P-40) containing a protease inhibitor mixture without EDTA (Roche). We lysed the cells at 1.6 bar using a cell disruptor and spun the lysate 10 min at 20,000 × g. We collected the soluble fraction and added it to 200 μL Cobalt beads (Thermo Scientific). After 1 h incubation at 4 °C on a rotating wheel, we washed four times with lysis buffer. To elute, we incubated beads 30 min with elution buffer (PBS, 250 mM imidazole, pH 7.6) containing the protease inhibitor mixture, spun 30 s at 10,000 × g, and collected the eluted protein.Protein Kinase Assays. We mixed glutathione-Sepharose beads (harboring GST-CDK10 wt or kd, either monomeric or complexed with StrepII-CycM), 22.7 μM BSA, 15 mM DTT, 100 μM ATP, 5 μCi ATP[γ-32P], 7.75 μM histone H1, or 1 μM 6His-ETS2 and added kinase buffer A (25 mM Tris·HCl, 10 mM MgCl2, 1 mM EGTA, 1 mM DTT, and 3.7 μM heparin, pH 7.5) up to a total volume of 30 μL. We incubated the reactions 30 min at 30 °C, added Laemli sample buffer, heat-denatured the samples, and ran 10% Bis-Tris SDS/PAGE. We cut gel slices to detect GST-CDK10 and StrepII-CycM by Western blotting. We stained the gel slices containing the substrate with Coomassie (R-250, Bio-Rad), dried them, and detected the incorporated radioactivity by autoradiography. We identified four unrelated girls with anogenital and renal malformations, dysmorphic facial features, normal intellect and syndactyly of toes. A similar combination of features had been reported previously in a mother–daughter pair1 (Table 1 and Supplementary Note online). These authors noted clinical overlap with Townes-Brocks syndrome but suggested that the phenotype represented a separate autosomal dominant entity (MIM601446). Here we define the cardinal features of this syndrome as a characteristic facial appearance with apparent telecanthus and broad tripartite nasal tip, variable syndactyly of toes 2–5, hypoplastic labia, anal atresia and urogenital malformations (Fig. 1a–h). We also observed a variety of other features (Table 1).  Figure 1: Clinical and molecular characterization of STAR syndrome.  Figure 1 : Clinical and molecular characterization of STAR syndrome. (a–f) Facial appearances of cases 1–3 (apparent telecanthus, dysplastic ears and thin upper lips; a,c,e), and toe syndactyly 2–5, 3–5 or 4–5 (b,d,f) in these cases illustrate recognizable features of STAR syndrome (specific parental consent has been obtained for publication of these photographs). Anal atresia and hypoplastic labia are not shown. (g,h) X-ray films of the feet of case 2 showing only four rays on the left and delta-shaped 4th and 5th metatarsals on the right (h; compare to clinical picture in d). (i) Array-CGH data. Log2 ratio represents copy number loss of six probes spanning between 37.9 and 50.7 kb, with one probe positioned within FAM58A. The deletion does not remove parts of other functional genes. (j) Schematic structure of FAM58A and position of the mutations. FAM58A has five coding exons (boxes). The cyclin domain (green) is encoded by exons 2–4. The horizontal arrow indicates the deletion extending 5' in case 1, which includes exons 1 and 2, whereas the horizontal line below exon 5 indicates the deletion found in case 3, which removes exon 5 and some 3' sequence. The pink horizontal bars above the boxes indicate the amplicons used for qPCR and sequencing (one alternative exon 5 amplicon is not indicated because of space constraints). The mutation 201dupT (case 4) results in an immediate stop codon, and the 555+1G>A and 555-1G>A splice mutations in cases 2, 5 and 6 are predicted to be deleterious because they alter the conserved splice donor and acceptor site of intron 4, respectively.  Full size image (97 KB)  Table 1: Clinical features in STAR syndrome cases  Table 1 - Clinical features in STAR syndrome cases  Full table  On the basis of the phenotypic overlap with Townes-Brocks, Okihiro and Feingold syndromes, we analyzed SALL1 (ref. 2), SALL4 (ref. 3) and MYCN4 but found no mutations in any of these genes (Supplementary Methods online). Next, we carried out genome-wide high-resolution oligonucleotide array comparative genomic hybridization (CGH)5 analysis (Supplementary Methods) of genomic DNA from the most severely affected individual (case 1, with lower lid coloboma, epilepsy and syringomyelia) and identified a heterozygous deletion of 37.9–50.7 kb on Xq28, which removed exons 1 and 2 of FAM58A (Fig. 1i,j). Using real-time PCR, we confirmed the deletion in the child and excluded it in her unaffected parents (Supplementary Fig. 1a online, Supplementary Methods and Supplementary Table 1 online). Through CGH with a customized oligonucleotide array enriched in probes for Xq28, followed by breakpoint cloning, we defined the exact deletion size as 40,068 bp (g.152,514,164_152,554,231del(chromosome X, NCBI Build 36.2); Fig. 1j and Supplementary Figs. 2,3 online). The deletion removes the coding regions of exons 1 and 2 as well as intron 1 (2,774 bp), 492 bp of intron 2, and 36,608 bp of 5' sequence, including the 5' UTR and the entire KRT18P48 pseudogene (NCBI gene ID 340598). Paternity was proven using routine methods. We did not find deletions overlapping FAM58A in the available copy number variation (CNV) databases.  Subsequently, we carried out qPCR analysis of the three other affected individuals (cases 2, 3 and 4) and the mother-daughter pair from the literature (cases 5 and 6). In case 3, we detected a de novo heterozygous deletion of 1.1–10.3 kb overlapping exon 5 (Supplementary Fig. 1b online). Using Xq28-targeted array CGH and breakpoint cloning, we identified a deletion of 4,249 bp (g.152,504,123_152,508,371del(chromosome X, NCBI Build 36.2); Fig. 1j and Supplementary Figs. 2,3), which removed 1,265 bp of intron 4, all of exon 5, including the 3' UTR, and 2,454 bp of 3' sequence.  We found heterozygous FAM58A point mutations in the remaining cases (Fig. 1j, Supplementary Fig. 2, Supplementary Methods and Supplementary Table 1). In case 2, we identified the mutation 555+1G>A, affecting the splice donor site of intron 4. In case 4, we identified the frameshift mutation 201dupT, which immediately results in a premature stop codon N68XfsX1. In cases 5 and 6, we detected the mutation 556-1G>A, which alters the splice acceptor site of intron 4. We validated the point mutations and deletions by independent rounds of PCR and sequencing or by qPCR. We confirmed paternity and de novo status of the point mutations and deletions in all sporadic cases. None of the mutations were seen in the DNA of 60 unaffected female controls, and no larger deletions involving FAM58A were found in 93 unrelated array-CGH investigations.  By analyzing X-chromosome inactivation (Supplementary Methods and Supplementary Fig. 4 online), we found complete skewing of X inactivation in cases 1 and 3–6 and almost complete skewing in case 2, suggesting that cells carrying the mutation on the active X chromosome have a growth disadvantage during fetal development. Using RT-PCR on RNA from lymphoblastoid cells of case 2 (Supplementary Fig. 2), we did not find any aberrant splice products as additional evidence that the mutated allele is inactivated. Furthermore, FAM58A is subjected to X inactivation6. In cases 1 and 3, the parental origin of the deletions could not be determined, as a result of lack of informative SNPs. Case 5, the mother of case 6, gave birth to two boys, both clinically unaffected (samples not available). We cannot exclude that the condition is lethal in males. No fetal losses were reported from any of the families.  The function of FAM58A is unknown. The gene consists of five coding exons, and the 642-bp coding region encodes a protein of 214 amino acids. GenBank lists a mRNA length of 1,257 bp for the reference sequence (NM_152274.2). Expression of the gene (by EST data) was found in 27 of 48 adult tissues including kidney, colon, cervix and uterus, but not heart (NCBI expression viewer, UniGene Hs.496943). Expression was also noted in 24 of 26 listed tumor tissues as well as in embryo and fetus. Genes homologous to FAM58A (NCBI HomoloGene: 13362) are found on the X chromosome in the chimpanzee and the dog. The zebrafish has a similar gene on chromosome 23. However, in the mouse and rat, there are no true homologs. These species have similar but intronless genes on chromosomes 11 (mouse) and 10 (rat), most likely arising from a retrotransposon insertion event. On the murine X chromosome, the flanking genes Atp2b3 and Dusp9 are conserved, but only remnants of the FAM58A sequence can be detected.  FAM58A contains a cyclin-box-fold domain, a protein-binding domain found in cyclins with a role in cell cycle and transcription control. No human phenotype resulting from a cyclin gene mutation has yet been reported. Homozygous knockout mice for Ccnd1 (encoding cyclin D1) are viable but small and have reduced lifespan. They also have dystrophic changes of the retina, likely as a result of decreased cell proliferation and degeneration of photoreceptor cells during embryogenesis7, 8.  Cyclin D1 colocalizes with SALL4 in the nucleus, and both proteins cooperatively mediate transcriptional repression9. As the phenotype of our cases overlaps considerably with that of Townes-Brocks syndrome caused by SALL1 mutations1, we carried out co-immunoprecipitation to find out if SALL1 or SALL4 would interact with FAM58A in a manner similar to that observed for SALL4 and cyclin D1. We found that FAM58A interacts with SALL1 but not with SALL4 (Supplementary Fig. 5 online), supporting the hypothesis that FAM58A and SALL1 participate in the same developmental pathway.  How do FAM58A mutations lead to STAR syndrome? Growth retardation (all cases; Table 1) and retinal abnormalities (three cases) are reminiscent of the reduced body size and retinal anomalies in cyclin D1 knockout mice7, 8. Therefore, a proliferation defect might be partly responsible for STAR syndrome. To address this question, we carried out a knockdown of FAM58A mRNA followed by a proliferation assay. Transfection of HEK293 cells with three different FAM58A-specific RNAi oligonucleotides resulted in a significant reduction of both FAM58A mRNA expression and proliferation of transfected cells (Supplementary Methods and Supplementary Fig. 6 online), supporting the link between FAM58A and cell proliferation.  We found that loss-of-function mutations of FAM58A result in a rather homogeneous clinical phenotype. The additional anomalies in case 1 are likely to result from an effect of the 40-kb deletion on expression of a neighboring gene, possibly ATP2B3 or DUSP9. However, we cannot exclude that the homogeneous phenotype results from an ascertainment bias and that FAM58A mutations, including missense changes, could result in a broader spectrum of malformations. The genes causing the overlapping phenotypes of STAR syndrome and Townes-Brocks syndrome seem to act in the same pathway. Of note, MYCN, a gene mutated in Feingold syndrome, is a direct regulator of cyclin D2 (refs. 10,11); thus, it is worth exploring whether the phenotypic similarities between Feingold and STAR syndrome might be explained by direct regulation of FAM58A by MYCN.  FAM58A is located approximately 0.56 Mb centromeric to MECP2 on Xq28. Duplications overlapping both MECP2 and FAM58A have been described and are not associated with a clinical phenotype in females12, but no deletions overlapping both MECP2 and FAM58A have been observed to date13. Although other genes between FAM58A and MECP2 have been implicated in brain development, FAM58A and MECP2 are the only genes in this region known to result in X-linked dominant phenotypes; thus, deletion of both genes on the same allele might be lethal in both males and females.\n"
     ]
    }
   ],
   "source": [
    "print(train_text_df.iloc[0,1])"
   ]
  },
  {
   "cell_type": "markdown",
   "metadata": {
    "collapsed": true
   },
   "source": [
    "##### 변수의 구성\n",
    "- **Class**\n",
    "    - 본 분석에서 예측해야 할 데이터\n",
    "    - 9개의 클래스 중 7번이 제일 많고 8번이 제일 적다\n",
    "    - 항목당 차이가 크므로 Kfold 등을 사용하여 데이터가 치우치지 않도록 유의  \n",
    "    \n",
    "    \n",
    "- **Gene**\n",
    "    - 돌연변이가 발생한 유전자\n",
    "    - 264종이며, 특정 Class에 분포되어 있는 Gene이 있는 것으로 보인다\n",
    "\n",
    "\n",
    "- **Variation**\n",
    "    - 돌연변이의 아미노산 변화\n",
    "    - 2996종이며, 대부분 10개 이하로 이뤄져있다\n",
    "    - Class 분류에 유의미하게 사용되기 어려울 것으로 판단된다\n",
    "    \n",
    "    \n",
    "- **Text**\n",
    "    - 돌연변이에 대한 관찰자료\n",
    "    - 한 ID에 대해서도 상당한 양의 text가 존재함"
   ]
  },
  {
   "cell_type": "code",
   "execution_count": 558,
   "metadata": {
    "collapsed": true
   },
   "outputs": [],
   "source": [
    "df = train_vari_df.join(train_text_df.set_index('ID'), on='ID')\n",
    "sol_df = stage1_vari_df.join(stage1_text_new.set_index('ID'), on='ID')"
   ]
  },
  {
   "cell_type": "code",
   "execution_count": 559,
   "metadata": {
    "collapsed": true
   },
   "outputs": [],
   "source": [
    "sol_df.index = range(len(df), len(df)+len(sol_df))\n",
    "sol_df = sol_df.reset_index()\n",
    "sol_df.index = [i for i in sol_df['index']]"
   ]
  },
  {
   "cell_type": "code",
   "execution_count": 560,
   "metadata": {},
   "outputs": [],
   "source": [
    "del sol_df['ID']\n",
    "sol_df.rename(columns={'index': 'ID'}, inplace=True)"
   ]
  },
  {
   "cell_type": "code",
   "execution_count": 564,
   "metadata": {
    "collapsed": true
   },
   "outputs": [],
   "source": [
    "df = pd.concat([df, sol_df])"
   ]
  },
  {
   "cell_type": "code",
   "execution_count": 579,
   "metadata": {},
   "outputs": [
    {
     "data": {
      "text/plain": [
       "3689"
      ]
     },
     "execution_count": 579,
     "metadata": {},
     "output_type": "execute_result"
    }
   ],
   "source": [
    "len(df)"
   ]
  },
  {
   "cell_type": "code",
   "execution_count": 565,
   "metadata": {
    "collapsed": true
   },
   "outputs": [],
   "source": [
    "# Dataframe 통합\n",
    "df_y = df['Class'].values\n",
    "df_X = df[['Gene', 'Variation', 'Text']]\n",
    "df_test = test_vari_df.join(test_text_df.set_index('ID'), on='ID')\n",
    "df_test = df_test.iloc[:,1:]"
   ]
  },
  {
   "cell_type": "code",
   "execution_count": 566,
   "metadata": {
    "collapsed": true
   },
   "outputs": [],
   "source": [
    "df_new = pd.concat([df_X, df_test], ignore_index=True)"
   ]
  },
  {
   "cell_type": "code",
   "execution_count": 567,
   "metadata": {},
   "outputs": [
    {
     "data": {
      "text/plain": [
       "4675"
      ]
     },
     "execution_count": 567,
     "metadata": {},
     "output_type": "execute_result"
    }
   ],
   "source": [
    "len(df_new)"
   ]
  },
  {
   "cell_type": "code",
   "execution_count": 568,
   "metadata": {},
   "outputs": [
    {
     "name": "stdout",
     "output_type": "stream",
     "text": [
      "<class 'pandas.core.frame.DataFrame'>\n",
      "RangeIndex: 4675 entries, 0 to 4674\n",
      "Data columns (total 3 columns):\n",
      "Gene         4675 non-null object\n",
      "Variation    4675 non-null object\n",
      "Text         4675 non-null object\n",
      "dtypes: object(3)\n",
      "memory usage: 109.6+ KB\n"
     ]
    }
   ],
   "source": [
    "df_new.info()"
   ]
  },
  {
   "cell_type": "code",
   "execution_count": 569,
   "metadata": {},
   "outputs": [
    {
     "data": {
      "text/html": [
       "<div>\n",
       "<style>\n",
       "    .dataframe thead tr:only-child th {\n",
       "        text-align: right;\n",
       "    }\n",
       "\n",
       "    .dataframe thead th {\n",
       "        text-align: left;\n",
       "    }\n",
       "\n",
       "    .dataframe tbody tr th {\n",
       "        vertical-align: top;\n",
       "    }\n",
       "</style>\n",
       "<table border=\"1\" class=\"dataframe\">\n",
       "  <thead>\n",
       "    <tr style=\"text-align: right;\">\n",
       "      <th></th>\n",
       "      <th>Gene</th>\n",
       "      <th>Variation</th>\n",
       "      <th>Text</th>\n",
       "    </tr>\n",
       "  </thead>\n",
       "  <tbody>\n",
       "    <tr>\n",
       "      <th>4670</th>\n",
       "      <td>TP63</td>\n",
       "      <td>S580P</td>\n",
       "      <td>IκB kinase β (IKKβ) is involved in tumor devel...</td>\n",
       "    </tr>\n",
       "    <tr>\n",
       "      <th>4671</th>\n",
       "      <td>SCN4A</td>\n",
       "      <td>R672G</td>\n",
       "      <td>he identification of subtype-specific transloc...</td>\n",
       "    </tr>\n",
       "    <tr>\n",
       "      <th>4672</th>\n",
       "      <td>BRAF</td>\n",
       "      <td>N581H</td>\n",
       "      <td>Cardio-facio-cutaneous (CFC) syndrome (MIM 115...</td>\n",
       "    </tr>\n",
       "    <tr>\n",
       "      <th>4673</th>\n",
       "      <td>TSHR</td>\n",
       "      <td>S281N</td>\n",
       "      <td>Screening for tumor suppressor genes in breast...</td>\n",
       "    </tr>\n",
       "    <tr>\n",
       "      <th>4674</th>\n",
       "      <td>ASS1</td>\n",
       "      <td>S180N</td>\n",
       "      <td>Histiocytic neoplasms are clonal, hematopoieti...</td>\n",
       "    </tr>\n",
       "  </tbody>\n",
       "</table>\n",
       "</div>"
      ],
      "text/plain": [
       "       Gene Variation                                               Text\n",
       "4670   TP63     S580P  IκB kinase β (IKKβ) is involved in tumor devel...\n",
       "4671  SCN4A     R672G  he identification of subtype-specific transloc...\n",
       "4672   BRAF     N581H  Cardio-facio-cutaneous (CFC) syndrome (MIM 115...\n",
       "4673   TSHR     S281N  Screening for tumor suppressor genes in breast...\n",
       "4674   ASS1     S180N  Histiocytic neoplasms are clonal, hematopoieti..."
      ]
     },
     "execution_count": 569,
     "metadata": {},
     "output_type": "execute_result"
    }
   ],
   "source": [
    "df_new.tail()"
   ]
  },
  {
   "cell_type": "markdown",
   "metadata": {},
   "source": [
    "# TF-IDF"
   ]
  },
  {
   "cell_type": "code",
   "execution_count": 570,
   "metadata": {
    "collapsed": true
   },
   "outputs": [],
   "source": [
    "vect = TfidfVectorizer()"
   ]
  },
  {
   "cell_type": "code",
   "execution_count": 571,
   "metadata": {
    "collapsed": true
   },
   "outputs": [],
   "source": [
    "stop_words = ENGLISH_STOP_WORDS"
   ]
  },
  {
   "cell_type": "code",
   "execution_count": 572,
   "metadata": {
    "collapsed": true
   },
   "outputs": [],
   "source": [
    "def text_Decomposition(text):\n",
    "    text = re.sub(r\"[^a-zA-Z0-9^,!./\\+-_=]\", \" \", text) # 정규표현식 사용하여 ^이하가 아닌 것들은 제거\n",
    "    text = text.lower().split()\n",
    "    text = [i for i in text if not i in stop_words]\n",
    "    text = \" \".join(text)\n",
    "    text = text.replace(\".\",\" \").replace(\",\",\" \")\n",
    "    return (text)"
   ]
  },
  {
   "cell_type": "code",
   "execution_count": 573,
   "metadata": {
    "collapsed": true
   },
   "outputs": [],
   "source": [
    "df_new['Text'] = df_new['Text'].apply(text_Decomposition)"
   ]
  },
  {
   "cell_type": "code",
   "execution_count": 574,
   "metadata": {
    "collapsed": true
   },
   "outputs": [],
   "source": [
    "df_vect = vect.fit_transform(df_new['Text']).toarray()"
   ]
  },
  {
   "cell_type": "code",
   "execution_count": 575,
   "metadata": {
    "collapsed": true
   },
   "outputs": [],
   "source": [
    "svd = TruncatedSVD(n_components=500, n_iter=5, random_state=0)"
   ]
  },
  {
   "cell_type": "code",
   "execution_count": 576,
   "metadata": {
    "collapsed": true,
    "scrolled": true
   },
   "outputs": [],
   "source": [
    "truncated_tfidf = svd.fit_transform(df_vect)"
   ]
  },
  {
   "cell_type": "code",
   "execution_count": 577,
   "metadata": {
    "collapsed": true
   },
   "outputs": [],
   "source": [
    "df_tfidf = pd.DataFrame(truncated_tfidf)"
   ]
  },
  {
   "cell_type": "code",
   "execution_count": 578,
   "metadata": {},
   "outputs": [
    {
     "data": {
      "text/html": [
       "<div>\n",
       "<style>\n",
       "    .dataframe thead tr:only-child th {\n",
       "        text-align: right;\n",
       "    }\n",
       "\n",
       "    .dataframe thead th {\n",
       "        text-align: left;\n",
       "    }\n",
       "\n",
       "    .dataframe tbody tr th {\n",
       "        vertical-align: top;\n",
       "    }\n",
       "</style>\n",
       "<table border=\"1\" class=\"dataframe\">\n",
       "  <thead>\n",
       "    <tr style=\"text-align: right;\">\n",
       "      <th></th>\n",
       "      <th>0</th>\n",
       "      <th>1</th>\n",
       "      <th>2</th>\n",
       "      <th>3</th>\n",
       "      <th>4</th>\n",
       "      <th>5</th>\n",
       "      <th>6</th>\n",
       "      <th>7</th>\n",
       "      <th>8</th>\n",
       "      <th>9</th>\n",
       "      <th>...</th>\n",
       "      <th>490</th>\n",
       "      <th>491</th>\n",
       "      <th>492</th>\n",
       "      <th>493</th>\n",
       "      <th>494</th>\n",
       "      <th>495</th>\n",
       "      <th>496</th>\n",
       "      <th>497</th>\n",
       "      <th>498</th>\n",
       "      <th>499</th>\n",
       "    </tr>\n",
       "  </thead>\n",
       "  <tbody>\n",
       "    <tr>\n",
       "      <th>4670</th>\n",
       "      <td>0.139612</td>\n",
       "      <td>-0.056328</td>\n",
       "      <td>-0.018575</td>\n",
       "      <td>-0.035329</td>\n",
       "      <td>0.013205</td>\n",
       "      <td>-0.010733</td>\n",
       "      <td>-0.004215</td>\n",
       "      <td>0.004996</td>\n",
       "      <td>0.003996</td>\n",
       "      <td>0.025295</td>\n",
       "      <td>...</td>\n",
       "      <td>0.022835</td>\n",
       "      <td>-0.004642</td>\n",
       "      <td>-0.020835</td>\n",
       "      <td>-0.010127</td>\n",
       "      <td>-0.003525</td>\n",
       "      <td>-0.012005</td>\n",
       "      <td>0.016053</td>\n",
       "      <td>0.012281</td>\n",
       "      <td>-0.021914</td>\n",
       "      <td>0.015470</td>\n",
       "    </tr>\n",
       "    <tr>\n",
       "      <th>4671</th>\n",
       "      <td>0.111819</td>\n",
       "      <td>-0.052629</td>\n",
       "      <td>-0.021312</td>\n",
       "      <td>-0.026305</td>\n",
       "      <td>0.024912</td>\n",
       "      <td>0.010630</td>\n",
       "      <td>-0.000873</td>\n",
       "      <td>0.007164</td>\n",
       "      <td>0.024264</td>\n",
       "      <td>-0.009242</td>\n",
       "      <td>...</td>\n",
       "      <td>-0.006069</td>\n",
       "      <td>0.002096</td>\n",
       "      <td>0.026369</td>\n",
       "      <td>-0.022381</td>\n",
       "      <td>0.003915</td>\n",
       "      <td>0.018960</td>\n",
       "      <td>-0.008268</td>\n",
       "      <td>0.046447</td>\n",
       "      <td>0.025407</td>\n",
       "      <td>-0.000089</td>\n",
       "    </tr>\n",
       "    <tr>\n",
       "      <th>4672</th>\n",
       "      <td>0.250173</td>\n",
       "      <td>-0.145189</td>\n",
       "      <td>-0.038135</td>\n",
       "      <td>-0.082843</td>\n",
       "      <td>0.084919</td>\n",
       "      <td>0.009446</td>\n",
       "      <td>-0.178401</td>\n",
       "      <td>-0.124012</td>\n",
       "      <td>-0.124513</td>\n",
       "      <td>-0.027559</td>\n",
       "      <td>...</td>\n",
       "      <td>0.006503</td>\n",
       "      <td>-0.000515</td>\n",
       "      <td>-0.002468</td>\n",
       "      <td>-0.007888</td>\n",
       "      <td>-0.015333</td>\n",
       "      <td>0.019957</td>\n",
       "      <td>0.000486</td>\n",
       "      <td>-0.008532</td>\n",
       "      <td>-0.008509</td>\n",
       "      <td>0.007847</td>\n",
       "    </tr>\n",
       "    <tr>\n",
       "      <th>4673</th>\n",
       "      <td>0.106104</td>\n",
       "      <td>-0.046382</td>\n",
       "      <td>-0.006957</td>\n",
       "      <td>-0.041951</td>\n",
       "      <td>-0.003469</td>\n",
       "      <td>-0.010374</td>\n",
       "      <td>0.019176</td>\n",
       "      <td>-0.004764</td>\n",
       "      <td>0.012984</td>\n",
       "      <td>0.021042</td>\n",
       "      <td>...</td>\n",
       "      <td>0.022738</td>\n",
       "      <td>0.017865</td>\n",
       "      <td>-0.020306</td>\n",
       "      <td>-0.012529</td>\n",
       "      <td>-0.029956</td>\n",
       "      <td>0.017914</td>\n",
       "      <td>0.008093</td>\n",
       "      <td>0.012891</td>\n",
       "      <td>0.023162</td>\n",
       "      <td>0.032210</td>\n",
       "    </tr>\n",
       "    <tr>\n",
       "      <th>4674</th>\n",
       "      <td>0.201582</td>\n",
       "      <td>-0.098409</td>\n",
       "      <td>-0.034556</td>\n",
       "      <td>-0.039589</td>\n",
       "      <td>0.046524</td>\n",
       "      <td>0.018440</td>\n",
       "      <td>-0.039078</td>\n",
       "      <td>-0.001002</td>\n",
       "      <td>0.016865</td>\n",
       "      <td>-0.044667</td>\n",
       "      <td>...</td>\n",
       "      <td>0.000165</td>\n",
       "      <td>-0.014784</td>\n",
       "      <td>0.004835</td>\n",
       "      <td>0.021866</td>\n",
       "      <td>0.010195</td>\n",
       "      <td>0.005509</td>\n",
       "      <td>-0.003088</td>\n",
       "      <td>-0.008418</td>\n",
       "      <td>0.007941</td>\n",
       "      <td>-0.014126</td>\n",
       "    </tr>\n",
       "  </tbody>\n",
       "</table>\n",
       "<p>5 rows × 500 columns</p>\n",
       "</div>"
      ],
      "text/plain": [
       "           0         1         2         3         4         5         6    \\\n",
       "4670  0.139612 -0.056328 -0.018575 -0.035329  0.013205 -0.010733 -0.004215   \n",
       "4671  0.111819 -0.052629 -0.021312 -0.026305  0.024912  0.010630 -0.000873   \n",
       "4672  0.250173 -0.145189 -0.038135 -0.082843  0.084919  0.009446 -0.178401   \n",
       "4673  0.106104 -0.046382 -0.006957 -0.041951 -0.003469 -0.010374  0.019176   \n",
       "4674  0.201582 -0.098409 -0.034556 -0.039589  0.046524  0.018440 -0.039078   \n",
       "\n",
       "           7         8         9      ...          490       491       492  \\\n",
       "4670  0.004996  0.003996  0.025295    ...     0.022835 -0.004642 -0.020835   \n",
       "4671  0.007164  0.024264 -0.009242    ...    -0.006069  0.002096  0.026369   \n",
       "4672 -0.124012 -0.124513 -0.027559    ...     0.006503 -0.000515 -0.002468   \n",
       "4673 -0.004764  0.012984  0.021042    ...     0.022738  0.017865 -0.020306   \n",
       "4674 -0.001002  0.016865 -0.044667    ...     0.000165 -0.014784  0.004835   \n",
       "\n",
       "           493       494       495       496       497       498       499  \n",
       "4670 -0.010127 -0.003525 -0.012005  0.016053  0.012281 -0.021914  0.015470  \n",
       "4671 -0.022381  0.003915  0.018960 -0.008268  0.046447  0.025407 -0.000089  \n",
       "4672 -0.007888 -0.015333  0.019957  0.000486 -0.008532 -0.008509  0.007847  \n",
       "4673 -0.012529 -0.029956  0.017914  0.008093  0.012891  0.023162  0.032210  \n",
       "4674  0.021866  0.010195  0.005509 -0.003088 -0.008418  0.007941 -0.014126  \n",
       "\n",
       "[5 rows x 500 columns]"
      ]
     },
     "execution_count": 578,
     "metadata": {},
     "output_type": "execute_result"
    }
   ],
   "source": [
    "df_tfidf.tail()"
   ]
  },
  {
   "cell_type": "markdown",
   "metadata": {},
   "source": [
    "# Dummificatoin"
   ]
  },
  {
   "cell_type": "code",
   "execution_count": 580,
   "metadata": {
    "collapsed": true
   },
   "outputs": [],
   "source": [
    "encoder = LabelEncoder()"
   ]
  },
  {
   "cell_type": "code",
   "execution_count": 581,
   "metadata": {
    "collapsed": true
   },
   "outputs": [],
   "source": [
    "df_dummy = df_new.iloc[:,:2].copy()"
   ]
  },
  {
   "cell_type": "code",
   "execution_count": 582,
   "metadata": {
    "collapsed": true
   },
   "outputs": [],
   "source": [
    "df_dummy['Gene'] = encoder.fit_transform(df_dummy['Gene'])\n",
    "df_dummy['Variation'] = encoder.fit_transform(df_dummy['Variation'])"
   ]
  },
  {
   "cell_type": "code",
   "execution_count": 583,
   "metadata": {},
   "outputs": [
    {
     "data": {
      "text/html": [
       "<div>\n",
       "<style>\n",
       "    .dataframe thead tr:only-child th {\n",
       "        text-align: right;\n",
       "    }\n",
       "\n",
       "    .dataframe thead th {\n",
       "        text-align: left;\n",
       "    }\n",
       "\n",
       "    .dataframe tbody tr th {\n",
       "        vertical-align: top;\n",
       "    }\n",
       "</style>\n",
       "<table border=\"1\" class=\"dataframe\">\n",
       "  <thead>\n",
       "    <tr style=\"text-align: right;\">\n",
       "      <th></th>\n",
       "      <th>Gene</th>\n",
       "      <th>Variation</th>\n",
       "    </tr>\n",
       "  </thead>\n",
       "  <tbody>\n",
       "    <tr>\n",
       "      <th>4670</th>\n",
       "      <td>381</td>\n",
       "      <td>3214</td>\n",
       "    </tr>\n",
       "    <tr>\n",
       "      <th>4671</th>\n",
       "      <td>320</td>\n",
       "      <td>2913</td>\n",
       "    </tr>\n",
       "    <tr>\n",
       "      <th>4672</th>\n",
       "      <td>50</td>\n",
       "      <td>2162</td>\n",
       "    </tr>\n",
       "    <tr>\n",
       "      <th>4673</th>\n",
       "      <td>386</td>\n",
       "      <td>3135</td>\n",
       "    </tr>\n",
       "    <tr>\n",
       "      <th>4674</th>\n",
       "      <td>24</td>\n",
       "      <td>3065</td>\n",
       "    </tr>\n",
       "  </tbody>\n",
       "</table>\n",
       "</div>"
      ],
      "text/plain": [
       "      Gene  Variation\n",
       "4670   381       3214\n",
       "4671   320       2913\n",
       "4672    50       2162\n",
       "4673   386       3135\n",
       "4674    24       3065"
      ]
     },
     "execution_count": 583,
     "metadata": {},
     "output_type": "execute_result"
    }
   ],
   "source": [
    "df_dummy.tail()"
   ]
  },
  {
   "cell_type": "markdown",
   "metadata": {},
   "source": [
    "# Join TF-IDF with Dummies"
   ]
  },
  {
   "cell_type": "code",
   "execution_count": 584,
   "metadata": {
    "collapsed": true
   },
   "outputs": [],
   "source": [
    "df_dummy['tmp'] = [i for i in range(len(df_new))]\n",
    "df_tfidf['tmp'] = [i for i in range(len(df_tfidf))]"
   ]
  },
  {
   "cell_type": "code",
   "execution_count": 585,
   "metadata": {
    "collapsed": true
   },
   "outputs": [],
   "source": [
    "df_new = df_dummy.join(df_tfidf.set_index(\"tmp\"), on=\"tmp\")"
   ]
  },
  {
   "cell_type": "code",
   "execution_count": 586,
   "metadata": {
    "collapsed": true
   },
   "outputs": [],
   "source": [
    "del df_new['tmp']"
   ]
  },
  {
   "cell_type": "code",
   "execution_count": 587,
   "metadata": {
    "scrolled": true
   },
   "outputs": [
    {
     "data": {
      "text/html": [
       "<div>\n",
       "<style>\n",
       "    .dataframe thead tr:only-child th {\n",
       "        text-align: right;\n",
       "    }\n",
       "\n",
       "    .dataframe thead th {\n",
       "        text-align: left;\n",
       "    }\n",
       "\n",
       "    .dataframe tbody tr th {\n",
       "        vertical-align: top;\n",
       "    }\n",
       "</style>\n",
       "<table border=\"1\" class=\"dataframe\">\n",
       "  <thead>\n",
       "    <tr style=\"text-align: right;\">\n",
       "      <th></th>\n",
       "      <th>Gene</th>\n",
       "      <th>Variation</th>\n",
       "      <th>0</th>\n",
       "      <th>1</th>\n",
       "      <th>2</th>\n",
       "      <th>3</th>\n",
       "      <th>4</th>\n",
       "      <th>5</th>\n",
       "      <th>6</th>\n",
       "      <th>7</th>\n",
       "      <th>...</th>\n",
       "      <th>490</th>\n",
       "      <th>491</th>\n",
       "      <th>492</th>\n",
       "      <th>493</th>\n",
       "      <th>494</th>\n",
       "      <th>495</th>\n",
       "      <th>496</th>\n",
       "      <th>497</th>\n",
       "      <th>498</th>\n",
       "      <th>499</th>\n",
       "    </tr>\n",
       "  </thead>\n",
       "  <tbody>\n",
       "    <tr>\n",
       "      <th>4670</th>\n",
       "      <td>381</td>\n",
       "      <td>3214</td>\n",
       "      <td>0.139612</td>\n",
       "      <td>-0.056328</td>\n",
       "      <td>-0.018575</td>\n",
       "      <td>-0.035329</td>\n",
       "      <td>0.013205</td>\n",
       "      <td>-0.010733</td>\n",
       "      <td>-0.004215</td>\n",
       "      <td>0.004996</td>\n",
       "      <td>...</td>\n",
       "      <td>0.022835</td>\n",
       "      <td>-0.004642</td>\n",
       "      <td>-0.020835</td>\n",
       "      <td>-0.010127</td>\n",
       "      <td>-0.003525</td>\n",
       "      <td>-0.012005</td>\n",
       "      <td>0.016053</td>\n",
       "      <td>0.012281</td>\n",
       "      <td>-0.021914</td>\n",
       "      <td>0.015470</td>\n",
       "    </tr>\n",
       "    <tr>\n",
       "      <th>4671</th>\n",
       "      <td>320</td>\n",
       "      <td>2913</td>\n",
       "      <td>0.111819</td>\n",
       "      <td>-0.052629</td>\n",
       "      <td>-0.021312</td>\n",
       "      <td>-0.026305</td>\n",
       "      <td>0.024912</td>\n",
       "      <td>0.010630</td>\n",
       "      <td>-0.000873</td>\n",
       "      <td>0.007164</td>\n",
       "      <td>...</td>\n",
       "      <td>-0.006069</td>\n",
       "      <td>0.002096</td>\n",
       "      <td>0.026369</td>\n",
       "      <td>-0.022381</td>\n",
       "      <td>0.003915</td>\n",
       "      <td>0.018960</td>\n",
       "      <td>-0.008268</td>\n",
       "      <td>0.046447</td>\n",
       "      <td>0.025407</td>\n",
       "      <td>-0.000089</td>\n",
       "    </tr>\n",
       "    <tr>\n",
       "      <th>4672</th>\n",
       "      <td>50</td>\n",
       "      <td>2162</td>\n",
       "      <td>0.250173</td>\n",
       "      <td>-0.145189</td>\n",
       "      <td>-0.038135</td>\n",
       "      <td>-0.082843</td>\n",
       "      <td>0.084919</td>\n",
       "      <td>0.009446</td>\n",
       "      <td>-0.178401</td>\n",
       "      <td>-0.124012</td>\n",
       "      <td>...</td>\n",
       "      <td>0.006503</td>\n",
       "      <td>-0.000515</td>\n",
       "      <td>-0.002468</td>\n",
       "      <td>-0.007888</td>\n",
       "      <td>-0.015333</td>\n",
       "      <td>0.019957</td>\n",
       "      <td>0.000486</td>\n",
       "      <td>-0.008532</td>\n",
       "      <td>-0.008509</td>\n",
       "      <td>0.007847</td>\n",
       "    </tr>\n",
       "    <tr>\n",
       "      <th>4673</th>\n",
       "      <td>386</td>\n",
       "      <td>3135</td>\n",
       "      <td>0.106104</td>\n",
       "      <td>-0.046382</td>\n",
       "      <td>-0.006957</td>\n",
       "      <td>-0.041951</td>\n",
       "      <td>-0.003469</td>\n",
       "      <td>-0.010374</td>\n",
       "      <td>0.019176</td>\n",
       "      <td>-0.004764</td>\n",
       "      <td>...</td>\n",
       "      <td>0.022738</td>\n",
       "      <td>0.017865</td>\n",
       "      <td>-0.020306</td>\n",
       "      <td>-0.012529</td>\n",
       "      <td>-0.029956</td>\n",
       "      <td>0.017914</td>\n",
       "      <td>0.008093</td>\n",
       "      <td>0.012891</td>\n",
       "      <td>0.023162</td>\n",
       "      <td>0.032210</td>\n",
       "    </tr>\n",
       "    <tr>\n",
       "      <th>4674</th>\n",
       "      <td>24</td>\n",
       "      <td>3065</td>\n",
       "      <td>0.201582</td>\n",
       "      <td>-0.098409</td>\n",
       "      <td>-0.034556</td>\n",
       "      <td>-0.039589</td>\n",
       "      <td>0.046524</td>\n",
       "      <td>0.018440</td>\n",
       "      <td>-0.039078</td>\n",
       "      <td>-0.001002</td>\n",
       "      <td>...</td>\n",
       "      <td>0.000165</td>\n",
       "      <td>-0.014784</td>\n",
       "      <td>0.004835</td>\n",
       "      <td>0.021866</td>\n",
       "      <td>0.010195</td>\n",
       "      <td>0.005509</td>\n",
       "      <td>-0.003088</td>\n",
       "      <td>-0.008418</td>\n",
       "      <td>0.007941</td>\n",
       "      <td>-0.014126</td>\n",
       "    </tr>\n",
       "  </tbody>\n",
       "</table>\n",
       "<p>5 rows × 502 columns</p>\n",
       "</div>"
      ],
      "text/plain": [
       "      Gene  Variation         0         1         2         3         4  \\\n",
       "4670   381       3214  0.139612 -0.056328 -0.018575 -0.035329  0.013205   \n",
       "4671   320       2913  0.111819 -0.052629 -0.021312 -0.026305  0.024912   \n",
       "4672    50       2162  0.250173 -0.145189 -0.038135 -0.082843  0.084919   \n",
       "4673   386       3135  0.106104 -0.046382 -0.006957 -0.041951 -0.003469   \n",
       "4674    24       3065  0.201582 -0.098409 -0.034556 -0.039589  0.046524   \n",
       "\n",
       "             5         6         7    ...          490       491       492  \\\n",
       "4670 -0.010733 -0.004215  0.004996    ...     0.022835 -0.004642 -0.020835   \n",
       "4671  0.010630 -0.000873  0.007164    ...    -0.006069  0.002096  0.026369   \n",
       "4672  0.009446 -0.178401 -0.124012    ...     0.006503 -0.000515 -0.002468   \n",
       "4673 -0.010374  0.019176 -0.004764    ...     0.022738  0.017865 -0.020306   \n",
       "4674  0.018440 -0.039078 -0.001002    ...     0.000165 -0.014784  0.004835   \n",
       "\n",
       "           493       494       495       496       497       498       499  \n",
       "4670 -0.010127 -0.003525 -0.012005  0.016053  0.012281 -0.021914  0.015470  \n",
       "4671 -0.022381  0.003915  0.018960 -0.008268  0.046447  0.025407 -0.000089  \n",
       "4672 -0.007888 -0.015333  0.019957  0.000486 -0.008532 -0.008509  0.007847  \n",
       "4673 -0.012529 -0.029956  0.017914  0.008093  0.012891  0.023162  0.032210  \n",
       "4674  0.021866  0.010195  0.005509 -0.003088 -0.008418  0.007941 -0.014126  \n",
       "\n",
       "[5 rows x 502 columns]"
      ]
     },
     "execution_count": 587,
     "metadata": {},
     "output_type": "execute_result"
    }
   ],
   "source": [
    "df_new.tail()"
   ]
  },
  {
   "cell_type": "code",
   "execution_count": 590,
   "metadata": {
    "collapsed": true
   },
   "outputs": [],
   "source": [
    "df_X = df_new.iloc[:3689, :]\n",
    "df_test = df_new.iloc[3689:, :]"
   ]
  },
  {
   "cell_type": "code",
   "execution_count": 591,
   "metadata": {},
   "outputs": [
    {
     "data": {
      "text/html": [
       "<div>\n",
       "<style>\n",
       "    .dataframe thead tr:only-child th {\n",
       "        text-align: right;\n",
       "    }\n",
       "\n",
       "    .dataframe thead th {\n",
       "        text-align: left;\n",
       "    }\n",
       "\n",
       "    .dataframe tbody tr th {\n",
       "        vertical-align: top;\n",
       "    }\n",
       "</style>\n",
       "<table border=\"1\" class=\"dataframe\">\n",
       "  <thead>\n",
       "    <tr style=\"text-align: right;\">\n",
       "      <th></th>\n",
       "      <th>Gene</th>\n",
       "      <th>Variation</th>\n",
       "      <th>0</th>\n",
       "      <th>1</th>\n",
       "      <th>2</th>\n",
       "      <th>3</th>\n",
       "      <th>4</th>\n",
       "      <th>5</th>\n",
       "      <th>6</th>\n",
       "      <th>7</th>\n",
       "      <th>...</th>\n",
       "      <th>490</th>\n",
       "      <th>491</th>\n",
       "      <th>492</th>\n",
       "      <th>493</th>\n",
       "      <th>494</th>\n",
       "      <th>495</th>\n",
       "      <th>496</th>\n",
       "      <th>497</th>\n",
       "      <th>498</th>\n",
       "      <th>499</th>\n",
       "    </tr>\n",
       "  </thead>\n",
       "  <tbody>\n",
       "    <tr>\n",
       "      <th>3684</th>\n",
       "      <td>211</td>\n",
       "      <td>3114</td>\n",
       "      <td>0.193727</td>\n",
       "      <td>-0.089984</td>\n",
       "      <td>-0.017568</td>\n",
       "      <td>-0.087670</td>\n",
       "      <td>0.009343</td>\n",
       "      <td>-0.008931</td>\n",
       "      <td>-0.030030</td>\n",
       "      <td>-0.017987</td>\n",
       "      <td>...</td>\n",
       "      <td>0.001527</td>\n",
       "      <td>-0.009869</td>\n",
       "      <td>-0.009215</td>\n",
       "      <td>0.006540</td>\n",
       "      <td>-0.009945</td>\n",
       "      <td>-0.003483</td>\n",
       "      <td>0.001912</td>\n",
       "      <td>-0.001035</td>\n",
       "      <td>0.001253</td>\n",
       "      <td>0.002864</td>\n",
       "    </tr>\n",
       "    <tr>\n",
       "      <th>3685</th>\n",
       "      <td>390</td>\n",
       "      <td>2198</td>\n",
       "      <td>0.091239</td>\n",
       "      <td>-0.033946</td>\n",
       "      <td>0.006413</td>\n",
       "      <td>-0.052648</td>\n",
       "      <td>-0.017022</td>\n",
       "      <td>-0.002759</td>\n",
       "      <td>0.002935</td>\n",
       "      <td>0.004070</td>\n",
       "      <td>...</td>\n",
       "      <td>-0.031233</td>\n",
       "      <td>0.004035</td>\n",
       "      <td>0.004515</td>\n",
       "      <td>0.018127</td>\n",
       "      <td>-0.011931</td>\n",
       "      <td>-0.015805</td>\n",
       "      <td>0.006871</td>\n",
       "      <td>0.008731</td>\n",
       "      <td>-0.021302</td>\n",
       "      <td>0.001378</td>\n",
       "    </tr>\n",
       "    <tr>\n",
       "      <th>3686</th>\n",
       "      <td>209</td>\n",
       "      <td>1331</td>\n",
       "      <td>0.232656</td>\n",
       "      <td>-0.142535</td>\n",
       "      <td>-0.037018</td>\n",
       "      <td>-0.080459</td>\n",
       "      <td>0.063103</td>\n",
       "      <td>0.081849</td>\n",
       "      <td>-0.129898</td>\n",
       "      <td>-0.096387</td>\n",
       "      <td>...</td>\n",
       "      <td>-0.003849</td>\n",
       "      <td>0.022419</td>\n",
       "      <td>0.007954</td>\n",
       "      <td>-0.000380</td>\n",
       "      <td>0.012265</td>\n",
       "      <td>-0.008941</td>\n",
       "      <td>-0.014641</td>\n",
       "      <td>0.011407</td>\n",
       "      <td>0.008252</td>\n",
       "      <td>-0.005969</td>\n",
       "    </tr>\n",
       "    <tr>\n",
       "      <th>3687</th>\n",
       "      <td>27</td>\n",
       "      <td>3541</td>\n",
       "      <td>0.256918</td>\n",
       "      <td>-0.047159</td>\n",
       "      <td>-0.028729</td>\n",
       "      <td>-0.070568</td>\n",
       "      <td>0.054768</td>\n",
       "      <td>-0.047776</td>\n",
       "      <td>0.007557</td>\n",
       "      <td>0.045000</td>\n",
       "      <td>...</td>\n",
       "      <td>-0.005660</td>\n",
       "      <td>0.001531</td>\n",
       "      <td>0.004416</td>\n",
       "      <td>-0.005372</td>\n",
       "      <td>-0.020416</td>\n",
       "      <td>-0.002786</td>\n",
       "      <td>0.004255</td>\n",
       "      <td>0.017568</td>\n",
       "      <td>0.002505</td>\n",
       "      <td>0.006032</td>\n",
       "    </tr>\n",
       "    <tr>\n",
       "      <th>3688</th>\n",
       "      <td>379</td>\n",
       "      <td>1136</td>\n",
       "      <td>0.260236</td>\n",
       "      <td>-0.087531</td>\n",
       "      <td>0.038612</td>\n",
       "      <td>-0.257368</td>\n",
       "      <td>-0.277992</td>\n",
       "      <td>-0.299537</td>\n",
       "      <td>0.399419</td>\n",
       "      <td>-0.088124</td>\n",
       "      <td>...</td>\n",
       "      <td>0.008416</td>\n",
       "      <td>0.011010</td>\n",
       "      <td>0.004206</td>\n",
       "      <td>-0.001862</td>\n",
       "      <td>0.017255</td>\n",
       "      <td>0.006690</td>\n",
       "      <td>-0.005207</td>\n",
       "      <td>-0.009235</td>\n",
       "      <td>-0.009506</td>\n",
       "      <td>0.003205</td>\n",
       "    </tr>\n",
       "  </tbody>\n",
       "</table>\n",
       "<p>5 rows × 502 columns</p>\n",
       "</div>"
      ],
      "text/plain": [
       "      Gene  Variation         0         1         2         3         4  \\\n",
       "3684   211       3114  0.193727 -0.089984 -0.017568 -0.087670  0.009343   \n",
       "3685   390       2198  0.091239 -0.033946  0.006413 -0.052648 -0.017022   \n",
       "3686   209       1331  0.232656 -0.142535 -0.037018 -0.080459  0.063103   \n",
       "3687    27       3541  0.256918 -0.047159 -0.028729 -0.070568  0.054768   \n",
       "3688   379       1136  0.260236 -0.087531  0.038612 -0.257368 -0.277992   \n",
       "\n",
       "             5         6         7    ...          490       491       492  \\\n",
       "3684 -0.008931 -0.030030 -0.017987    ...     0.001527 -0.009869 -0.009215   \n",
       "3685 -0.002759  0.002935  0.004070    ...    -0.031233  0.004035  0.004515   \n",
       "3686  0.081849 -0.129898 -0.096387    ...    -0.003849  0.022419  0.007954   \n",
       "3687 -0.047776  0.007557  0.045000    ...    -0.005660  0.001531  0.004416   \n",
       "3688 -0.299537  0.399419 -0.088124    ...     0.008416  0.011010  0.004206   \n",
       "\n",
       "           493       494       495       496       497       498       499  \n",
       "3684  0.006540 -0.009945 -0.003483  0.001912 -0.001035  0.001253  0.002864  \n",
       "3685  0.018127 -0.011931 -0.015805  0.006871  0.008731 -0.021302  0.001378  \n",
       "3686 -0.000380  0.012265 -0.008941 -0.014641  0.011407  0.008252 -0.005969  \n",
       "3687 -0.005372 -0.020416 -0.002786  0.004255  0.017568  0.002505  0.006032  \n",
       "3688 -0.001862  0.017255  0.006690 -0.005207 -0.009235 -0.009506  0.003205  \n",
       "\n",
       "[5 rows x 502 columns]"
      ]
     },
     "execution_count": 591,
     "metadata": {},
     "output_type": "execute_result"
    }
   ],
   "source": [
    "df_X.tail()"
   ]
  },
  {
   "cell_type": "code",
   "execution_count": 592,
   "metadata": {
    "collapsed": true
   },
   "outputs": [],
   "source": [
    "train_X, test_X, train_y, test_y = train_test_split(df_X, df_y, random_state=0)"
   ]
  },
  {
   "cell_type": "markdown",
   "metadata": {},
   "source": [
    "# Evaluation Model"
   ]
  },
  {
   "cell_type": "code",
   "execution_count": 593,
   "metadata": {
    "collapsed": true
   },
   "outputs": [],
   "source": [
    "# Cross Validation\n",
    "def model_cv(train, test, train_y, test_y, model, name):\n",
    "    model.fit(train, train_y)\n",
    "    print(name,': ',model.best_params_)\n",
    "    pred_y = model.predict_proba(test)\n",
    "    print('train score: {}'.format(model.score(train, train_y)))\n",
    "    print('test score: {}'.format(model.score(test, test_y)))\n",
    "    print('log loss: {}'.format(log_loss(test_y, pred_y)))\n",
    "    print()"
   ]
  },
  {
   "cell_type": "code",
   "execution_count": 594,
   "metadata": {
    "collapsed": true
   },
   "outputs": [],
   "source": [
    "# Models \n",
    "def forest(train, test, train_y, test_y):\n",
    "    param = [{'n_estimators': [50, 100, 300, 500],\n",
    "              'max_features': ['sqrt', 'log2'],\n",
    "              'min_samples_leaf': [1,5,10,50,100,200,500]\n",
    "         }]\n",
    "    model = GridSearchCV(RandomForestClassifier(n_jobs=-1, random_state=0), param, n_jobs=-1,\n",
    "                         cv=StratifiedKFold(n_splits=3, random_state=0))\n",
    "    name = 'Random forest'\n",
    "    return model_cv(train, test, train_y, test_y, model, name)\n",
    "\n",
    "def xgbc(train, test, train_y, test_y):\n",
    "    param = [{'n_estimators': [100, 300, 500, 1000],\n",
    "         'learning_rate': [0.1, 0.05, 0.01],}]\n",
    "    model = GridSearchCV(XGBClassifier(), param, n_jobs=-1,\n",
    "                         cv=StratifiedKFold(n_splits=3, random_state=0))\n",
    "    name = 'XGBoost'\n",
    "    return model_cv(train, test, train_y, test_y, model, name)\n",
    "\n",
    "def lgbm(train, test, train_y, test_y):\n",
    "    param = [{'n_estimators': [100, 500, 1000],\n",
    "         'learning_rate': [0.1, 0.05, 0.01]}]\n",
    "    model = GridSearchCV(LGBMClassifier(), param, n_jobs=-1,\n",
    "                         cv=StratifiedKFold(n_splits=3, random_state=0))\n",
    "    name = 'LightGBM'\n",
    "    return model_cv(train, test, train_y, test_y, model, name)"
   ]
  },
  {
   "cell_type": "markdown",
   "metadata": {},
   "source": [
    "# Model selection"
   ]
  },
  {
   "cell_type": "code",
   "execution_count": 595,
   "metadata": {},
   "outputs": [
    {
     "name": "stdout",
     "output_type": "stream",
     "text": [
      "Random forest :  {'max_features': 'sqrt', 'min_samples_leaf': 1, 'n_estimators': 500}\n",
      "train score: 1.0\n",
      "test score: 0.6533044420368364\n",
      "log loss: 1.6093847228775129\n",
      "\n"
     ]
    }
   ],
   "source": [
    "forest(train_X, test_X, train_y, test_y)"
   ]
  },
  {
   "cell_type": "code",
   "execution_count": 596,
   "metadata": {},
   "outputs": [
    {
     "name": "stdout",
     "output_type": "stream",
     "text": [
      "XGBoost :  {'learning_rate': 0.1, 'n_estimators': 300}\n",
      "train score: 0.9461315979754158\n",
      "test score: 0.6619718309859155\n",
      "log loss: 0.9763452651426661\n",
      "\n"
     ]
    }
   ],
   "source": [
    "xgbc(train_X, test_X, train_y, test_y)"
   ]
  },
  {
   "cell_type": "code",
   "execution_count": 597,
   "metadata": {
    "scrolled": true
   },
   "outputs": [
    {
     "name": "stdout",
     "output_type": "stream",
     "text": [
      "LightGBM :  {'learning_rate': 0.01, 'n_estimators': 500}\n",
      "train score: 0.9454085321764281\n",
      "test score: 0.6663055254604551\n",
      "log loss: 0.9667965205692224\n",
      "\n"
     ]
    }
   ],
   "source": [
    "lgbm(train_X, test_X, train_y, test_y)"
   ]
  },
  {
   "cell_type": "code",
   "execution_count": 606,
   "metadata": {},
   "outputs": [
    {
     "data": {
      "text/plain": [
       "XGBClassifier(base_score=0.5, colsample_bylevel=1, colsample_bytree=1,\n",
       "       gamma=0, learning_rate=0.1, max_delta_step=0, max_depth=3,\n",
       "       min_child_weight=1, missing=None, n_estimators=300, nthread=-1,\n",
       "       objective='multi:softprob', reg_alpha=0, reg_lambda=1,\n",
       "       scale_pos_weight=1, seed=0, silent=True, subsample=1)"
      ]
     },
     "execution_count": 606,
     "metadata": {},
     "output_type": "execute_result"
    }
   ],
   "source": [
    "clf = LGBMClassifier(learning_rate=0.01, n_estimators=500)\n",
    "clf.fit(train_X, train_y)"
   ]
  },
  {
   "cell_type": "markdown",
   "metadata": {},
   "source": [
    "# Submit"
   ]
  },
  {
   "cell_type": "code",
   "execution_count": 607,
   "metadata": {
    "collapsed": true
   },
   "outputs": [],
   "source": [
    "pred = clf.predict_proba(df_test)"
   ]
  },
  {
   "cell_type": "code",
   "execution_count": 608,
   "metadata": {
    "collapsed": true
   },
   "outputs": [],
   "source": [
    "submit = pd.DataFrame(pred)"
   ]
  },
  {
   "cell_type": "code",
   "execution_count": 609,
   "metadata": {
    "collapsed": true
   },
   "outputs": [],
   "source": [
    "ID = pd.DataFrame([{\"ID\": i+1 } for i, _ in enumerate(pred)])"
   ]
  },
  {
   "cell_type": "code",
   "execution_count": 610,
   "metadata": {
    "collapsed": true
   },
   "outputs": [],
   "source": [
    "submit.columns = ['class1', 'class2', 'class3', 'class4', 'class5', 'class6', 'class7', 'class8', 'class9']"
   ]
  },
  {
   "cell_type": "code",
   "execution_count": 611,
   "metadata": {},
   "outputs": [
    {
     "data": {
      "text/html": [
       "<div>\n",
       "<style>\n",
       "    .dataframe thead tr:only-child th {\n",
       "        text-align: right;\n",
       "    }\n",
       "\n",
       "    .dataframe thead th {\n",
       "        text-align: left;\n",
       "    }\n",
       "\n",
       "    .dataframe tbody tr th {\n",
       "        vertical-align: top;\n",
       "    }\n",
       "</style>\n",
       "<table border=\"1\" class=\"dataframe\">\n",
       "  <thead>\n",
       "    <tr style=\"text-align: right;\">\n",
       "      <th></th>\n",
       "      <th>ID</th>\n",
       "      <th>class1</th>\n",
       "      <th>class2</th>\n",
       "      <th>class3</th>\n",
       "      <th>class4</th>\n",
       "      <th>class5</th>\n",
       "      <th>class6</th>\n",
       "      <th>class7</th>\n",
       "      <th>class8</th>\n",
       "      <th>class9</th>\n",
       "    </tr>\n",
       "  </thead>\n",
       "  <tbody>\n",
       "    <tr>\n",
       "      <th>981</th>\n",
       "      <td>982</td>\n",
       "      <td>0.274139</td>\n",
       "      <td>0.060897</td>\n",
       "      <td>0.003737</td>\n",
       "      <td>0.569966</td>\n",
       "      <td>0.006396</td>\n",
       "      <td>0.004794</td>\n",
       "      <td>0.079771</td>\n",
       "      <td>0.000161</td>\n",
       "      <td>0.000139</td>\n",
       "    </tr>\n",
       "    <tr>\n",
       "      <th>982</th>\n",
       "      <td>983</td>\n",
       "      <td>0.035224</td>\n",
       "      <td>0.695899</td>\n",
       "      <td>0.000690</td>\n",
       "      <td>0.070279</td>\n",
       "      <td>0.002673</td>\n",
       "      <td>0.002708</td>\n",
       "      <td>0.135059</td>\n",
       "      <td>0.056634</td>\n",
       "      <td>0.000834</td>\n",
       "    </tr>\n",
       "    <tr>\n",
       "      <th>983</th>\n",
       "      <td>984</td>\n",
       "      <td>0.013294</td>\n",
       "      <td>0.620263</td>\n",
       "      <td>0.008052</td>\n",
       "      <td>0.005386</td>\n",
       "      <td>0.014750</td>\n",
       "      <td>0.012078</td>\n",
       "      <td>0.325451</td>\n",
       "      <td>0.000478</td>\n",
       "      <td>0.000248</td>\n",
       "    </tr>\n",
       "    <tr>\n",
       "      <th>984</th>\n",
       "      <td>985</td>\n",
       "      <td>0.497773</td>\n",
       "      <td>0.061117</td>\n",
       "      <td>0.000394</td>\n",
       "      <td>0.410404</td>\n",
       "      <td>0.008575</td>\n",
       "      <td>0.003898</td>\n",
       "      <td>0.016835</td>\n",
       "      <td>0.000570</td>\n",
       "      <td>0.000435</td>\n",
       "    </tr>\n",
       "    <tr>\n",
       "      <th>985</th>\n",
       "      <td>986</td>\n",
       "      <td>0.028880</td>\n",
       "      <td>0.188706</td>\n",
       "      <td>0.003500</td>\n",
       "      <td>0.028733</td>\n",
       "      <td>0.025650</td>\n",
       "      <td>0.002313</td>\n",
       "      <td>0.721550</td>\n",
       "      <td>0.000311</td>\n",
       "      <td>0.000358</td>\n",
       "    </tr>\n",
       "  </tbody>\n",
       "</table>\n",
       "</div>"
      ],
      "text/plain": [
       "      ID    class1    class2    class3    class4    class5    class6  \\\n",
       "981  982  0.274139  0.060897  0.003737  0.569966  0.006396  0.004794   \n",
       "982  983  0.035224  0.695899  0.000690  0.070279  0.002673  0.002708   \n",
       "983  984  0.013294  0.620263  0.008052  0.005386  0.014750  0.012078   \n",
       "984  985  0.497773  0.061117  0.000394  0.410404  0.008575  0.003898   \n",
       "985  986  0.028880  0.188706  0.003500  0.028733  0.025650  0.002313   \n",
       "\n",
       "       class7    class8    class9  \n",
       "981  0.079771  0.000161  0.000139  \n",
       "982  0.135059  0.056634  0.000834  \n",
       "983  0.325451  0.000478  0.000248  \n",
       "984  0.016835  0.000570  0.000435  \n",
       "985  0.721550  0.000311  0.000358  "
      ]
     },
     "execution_count": 611,
     "metadata": {},
     "output_type": "execute_result"
    }
   ],
   "source": [
    "submit = pd.concat([ID, submit], axis=1)\n",
    "submit.tail()"
   ]
  },
  {
   "cell_type": "code",
   "execution_count": 612,
   "metadata": {
    "collapsed": true
   },
   "outputs": [],
   "source": [
    "submit.to_csv('data/lgbm.csv', index=False)"
   ]
  }
 ],
 "metadata": {
  "kernelspec": {
   "display_name": "Python 3",
   "language": "python",
   "name": "python3"
  },
  "language_info": {
   "codemirror_mode": {
    "name": "ipython",
    "version": 3
   },
   "file_extension": ".py",
   "mimetype": "text/x-python",
   "name": "python",
   "nbconvert_exporter": "python",
   "pygments_lexer": "ipython3",
   "version": "3.6.1"
  }
 },
 "nbformat": 4,
 "nbformat_minor": 2
}
